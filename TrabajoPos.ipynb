{
 "cells": [
  {
   "cell_type": "code",
   "execution_count": 17,
   "metadata": {},
   "outputs": [],
   "source": [
    "import datetime # Tipo de dato para fechas y horas\n",
    "import pandas as pd # Manejo de datos tabulados\n",
    "import numpy as np # Algebra Lineal y operaciones matematicas\n",
    "import matplotlib.pyplot as plt # Graficos de datos\n",
    "import seaborn as sns # Graficos estadisticos"
   ]
  },
  {
   "cell_type": "code",
   "execution_count": 18,
   "metadata": {},
   "outputs": [
    {
     "data": {
      "text/html": [
       "<div>\n",
       "<style scoped>\n",
       "    .dataframe tbody tr th:only-of-type {\n",
       "        vertical-align: middle;\n",
       "    }\n",
       "\n",
       "    .dataframe tbody tr th {\n",
       "        vertical-align: top;\n",
       "    }\n",
       "\n",
       "    .dataframe thead th {\n",
       "        text-align: right;\n",
       "    }\n",
       "</style>\n",
       "<table border=\"1\" class=\"dataframe\">\n",
       "  <thead>\n",
       "    <tr style=\"text-align: right;\">\n",
       "      <th></th>\n",
       "      <th>FECHA_CORTE</th>\n",
       "      <th>DEPARTAMENTO</th>\n",
       "      <th>PROVINCIA</th>\n",
       "      <th>DISTRITO</th>\n",
       "      <th>METODODX</th>\n",
       "      <th>EDAD</th>\n",
       "      <th>SEXO</th>\n",
       "      <th>FECHA_RESULTADO</th>\n",
       "      <th>UBIGEO</th>\n",
       "      <th>id_persona</th>\n",
       "    </tr>\n",
       "  </thead>\n",
       "  <tbody>\n",
       "    <tr>\n",
       "      <th>0</th>\n",
       "      <td>20220312</td>\n",
       "      <td>CALLAO</td>\n",
       "      <td>CALLAO</td>\n",
       "      <td>CALLAO</td>\n",
       "      <td>PR</td>\n",
       "      <td>25.0</td>\n",
       "      <td>MASCULINO</td>\n",
       "      <td>20200619.0</td>\n",
       "      <td>70101.0</td>\n",
       "      <td>24662494</td>\n",
       "    </tr>\n",
       "    <tr>\n",
       "      <th>1</th>\n",
       "      <td>20220312</td>\n",
       "      <td>LIMA</td>\n",
       "      <td>LIMA</td>\n",
       "      <td>CHORRILLOS</td>\n",
       "      <td>PR</td>\n",
       "      <td>37.0</td>\n",
       "      <td>FEMENINO</td>\n",
       "      <td>20200912.0</td>\n",
       "      <td>150108.0</td>\n",
       "      <td>24662689</td>\n",
       "    </tr>\n",
       "    <tr>\n",
       "      <th>2</th>\n",
       "      <td>20220312</td>\n",
       "      <td>LIMA</td>\n",
       "      <td>LIMA</td>\n",
       "      <td>SAN MARTIN DE PORRES</td>\n",
       "      <td>PR</td>\n",
       "      <td>25.0</td>\n",
       "      <td>MASCULINO</td>\n",
       "      <td>20201217.0</td>\n",
       "      <td>150135.0</td>\n",
       "      <td>24662153</td>\n",
       "    </tr>\n",
       "    <tr>\n",
       "      <th>3</th>\n",
       "      <td>20220312</td>\n",
       "      <td>AREQUIPA</td>\n",
       "      <td>AREQUIPA</td>\n",
       "      <td>AREQUIPA</td>\n",
       "      <td>PCR</td>\n",
       "      <td>27.0</td>\n",
       "      <td>MASCULINO</td>\n",
       "      <td>20220120.0</td>\n",
       "      <td>40101.0</td>\n",
       "      <td>24662155</td>\n",
       "    </tr>\n",
       "    <tr>\n",
       "      <th>4</th>\n",
       "      <td>20220312</td>\n",
       "      <td>ICA</td>\n",
       "      <td>PISCO</td>\n",
       "      <td>PISCO</td>\n",
       "      <td>PR</td>\n",
       "      <td>20.0</td>\n",
       "      <td>FEMENINO</td>\n",
       "      <td>20200822.0</td>\n",
       "      <td>110501.0</td>\n",
       "      <td>24662175</td>\n",
       "    </tr>\n",
       "    <tr>\n",
       "      <th>...</th>\n",
       "      <td>...</td>\n",
       "      <td>...</td>\n",
       "      <td>...</td>\n",
       "      <td>...</td>\n",
       "      <td>...</td>\n",
       "      <td>...</td>\n",
       "      <td>...</td>\n",
       "      <td>...</td>\n",
       "      <td>...</td>\n",
       "      <td>...</td>\n",
       "    </tr>\n",
       "    <tr>\n",
       "      <th>1048570</th>\n",
       "      <td>20220312</td>\n",
       "      <td>UCAYALI</td>\n",
       "      <td>CORONEL PORTILLO</td>\n",
       "      <td>CALLERIA</td>\n",
       "      <td>PCR</td>\n",
       "      <td>35.0</td>\n",
       "      <td>FEMENINO</td>\n",
       "      <td>20220125.0</td>\n",
       "      <td>250101.0</td>\n",
       "      <td>33325863</td>\n",
       "    </tr>\n",
       "    <tr>\n",
       "      <th>1048571</th>\n",
       "      <td>20220312</td>\n",
       "      <td>LIMA</td>\n",
       "      <td>LIMA</td>\n",
       "      <td>CARABAYLLO</td>\n",
       "      <td>PCR</td>\n",
       "      <td>36.0</td>\n",
       "      <td>FEMENINO</td>\n",
       "      <td>20210203.0</td>\n",
       "      <td>150106.0</td>\n",
       "      <td>33325872</td>\n",
       "    </tr>\n",
       "    <tr>\n",
       "      <th>1048572</th>\n",
       "      <td>20220312</td>\n",
       "      <td>CAJAMARCA</td>\n",
       "      <td>SAN IGNACIO</td>\n",
       "      <td>LA COIPA</td>\n",
       "      <td>PR</td>\n",
       "      <td>45.0</td>\n",
       "      <td>FEMENINO</td>\n",
       "      <td>20200819.0</td>\n",
       "      <td>60904.0</td>\n",
       "      <td>33325874</td>\n",
       "    </tr>\n",
       "    <tr>\n",
       "      <th>1048573</th>\n",
       "      <td>20220312</td>\n",
       "      <td>LIMA</td>\n",
       "      <td>LIMA</td>\n",
       "      <td>SAN MARTIN DE PORRES</td>\n",
       "      <td>AG</td>\n",
       "      <td>6.0</td>\n",
       "      <td>MASCULINO</td>\n",
       "      <td>20220120.0</td>\n",
       "      <td>150135.0</td>\n",
       "      <td>33325882</td>\n",
       "    </tr>\n",
       "    <tr>\n",
       "      <th>1048574</th>\n",
       "      <td>20220312</td>\n",
       "      <td>CALLAO</td>\n",
       "      <td>CALLAO</td>\n",
       "      <td>VENTANILLA</td>\n",
       "      <td>AG</td>\n",
       "      <td>6.0</td>\n",
       "      <td>FEMENINO</td>\n",
       "      <td>20220105.0</td>\n",
       "      <td>70106.0</td>\n",
       "      <td>33325939</td>\n",
       "    </tr>\n",
       "  </tbody>\n",
       "</table>\n",
       "<p>1048575 rows × 10 columns</p>\n",
       "</div>"
      ],
      "text/plain": [
       "         FECHA_CORTE DEPARTAMENTO         PROVINCIA              DISTRITO  \\\n",
       "0           20220312       CALLAO            CALLAO                CALLAO   \n",
       "1           20220312         LIMA              LIMA            CHORRILLOS   \n",
       "2           20220312         LIMA              LIMA  SAN MARTIN DE PORRES   \n",
       "3           20220312     AREQUIPA          AREQUIPA              AREQUIPA   \n",
       "4           20220312          ICA             PISCO                 PISCO   \n",
       "...              ...          ...               ...                   ...   \n",
       "1048570     20220312      UCAYALI  CORONEL PORTILLO              CALLERIA   \n",
       "1048571     20220312         LIMA              LIMA            CARABAYLLO   \n",
       "1048572     20220312    CAJAMARCA       SAN IGNACIO              LA COIPA   \n",
       "1048573     20220312         LIMA              LIMA  SAN MARTIN DE PORRES   \n",
       "1048574     20220312       CALLAO            CALLAO            VENTANILLA   \n",
       "\n",
       "        METODODX  EDAD       SEXO  FECHA_RESULTADO    UBIGEO  id_persona  \n",
       "0             PR  25.0  MASCULINO       20200619.0   70101.0    24662494  \n",
       "1             PR  37.0   FEMENINO       20200912.0  150108.0    24662689  \n",
       "2             PR  25.0  MASCULINO       20201217.0  150135.0    24662153  \n",
       "3            PCR  27.0  MASCULINO       20220120.0   40101.0    24662155  \n",
       "4             PR  20.0   FEMENINO       20200822.0  110501.0    24662175  \n",
       "...          ...   ...        ...              ...       ...         ...  \n",
       "1048570      PCR  35.0   FEMENINO       20220125.0  250101.0    33325863  \n",
       "1048571      PCR  36.0   FEMENINO       20210203.0  150106.0    33325872  \n",
       "1048572       PR  45.0   FEMENINO       20200819.0   60904.0    33325874  \n",
       "1048573       AG   6.0  MASCULINO       20220120.0  150135.0    33325882  \n",
       "1048574       AG   6.0   FEMENINO       20220105.0   70106.0    33325939  \n",
       "\n",
       "[1048575 rows x 10 columns]"
      ]
     },
     "execution_count": 18,
     "metadata": {},
     "output_type": "execute_result"
    }
   ],
   "source": [
    "df = pd.read_excel(\"positivos_covid.xlsx\")\n",
    "df"
   ]
  },
  {
   "cell_type": "code",
   "execution_count": 19,
   "metadata": {},
   "outputs": [
    {
     "data": {
      "text/plain": [
       "38352"
      ]
     },
     "execution_count": 19,
     "metadata": {},
     "output_type": "execute_result"
    }
   ],
   "source": [
    "#Encontramos un valor anormal en la última fila así que procedemos a verificar el #de la fila\n",
    "df['EDAD'].argmax()\n",
    "#numero de fila donde esta el valor maximo de la variable edad"
   ]
  },
  {
   "cell_type": "code",
   "execution_count": 27,
   "metadata": {},
   "outputs": [
    {
     "data": {
      "text/plain": [
       "FECHA_CORTE          20220312\n",
       "DEPARTAMENTO             LIMA\n",
       "PROVINCIA                LIMA\n",
       "DISTRITO                 LIMA\n",
       "METODODX                  PCR\n",
       "EDAD                   2021.0\n",
       "SEXO                 FEMENINO\n",
       "FECHA_RESULTADO    20220215.0\n",
       "UBIGEO               150101.0\n",
       "id_persona           25870101\n",
       "Name: 38352, dtype: object"
      ]
     },
     "execution_count": 27,
     "metadata": {},
     "output_type": "execute_result"
    }
   ],
   "source": [
    "df.loc[38352] #mostrar los datos de la fila"
   ]
  },
  {
   "cell_type": "code",
   "execution_count": 28,
   "metadata": {},
   "outputs": [
    {
     "data": {
      "text/plain": [
       "FECHA_CORTE          20220312\n",
       "DEPARTAMENTO             LIMA\n",
       "PROVINCIA                LIMA\n",
       "DISTRITO           LURIGANCHO\n",
       "METODODX                   PR\n",
       "EDAD                     78.0\n",
       "SEXO                MASCULINO\n",
       "FECHA_RESULTADO    20210116.0\n",
       "UBIGEO               150118.0\n",
       "id_persona           25175744\n",
       "Name: 38353, dtype: object"
      ]
     },
     "execution_count": 28,
     "metadata": {},
     "output_type": "execute_result"
    }
   ],
   "source": [
    "df.loc[38353]"
   ]
  },
  {
   "cell_type": "code",
   "execution_count": 29,
   "metadata": {},
   "outputs": [
    {
     "data": {
      "text/plain": [
       "<AxesSubplot:>"
      ]
     },
     "execution_count": 29,
     "metadata": {},
     "output_type": "execute_result"
    },
    {
     "data": {
      "image/png": "[encoded data removed]",
      "text/plain": [
       "<Figure size 432x288 with 1 Axes>"
      ]
     },
     "metadata": {
      "needs_background": "light"
     },
     "output_type": "display_data"
    }
   ],
   "source": [
    "df.drop(38352,axis=0)['EDAD'].hist()\n",
    "#drop es para eliminar la fila o columna (0= elimina fila, 1 =columna, axis)"
   ]
  },
  {
   "cell_type": "code",
   "execution_count": 30,
   "metadata": {},
   "outputs": [
    {
     "data": {
      "text/plain": [
       "<AxesSubplot:>"
      ]
     },
     "execution_count": 30,
     "metadata": {},
     "output_type": "execute_result"
    },
    {
     "data": {
      "image/png": "[encoded data removed]",
      "text/plain": [
       "<Figure size 432x288 with 1 Axes>"
      ]
     },
     "metadata": {
      "needs_background": "light"
     },
     "output_type": "display_data"
    }
   ],
   "source": [
    "df.boxplot('EDAD')\n",
    "#para identificar outlayers/ diagrama de cajas"
   ]
  },
  {
   "cell_type": "code",
   "execution_count": 31,
   "metadata": {},
   "outputs": [
    {
     "data": {
      "text/plain": [
       "<AxesSubplot:>"
      ]
     },
     "execution_count": 31,
     "metadata": {},
     "output_type": "execute_result"
    },
    {
     "data": {
      "image/png": "[encoded data removed]",
      "text/plain": [
       "<Figure size 432x288 with 1 Axes>"
      ]
     },
     "metadata": {
      "needs_background": "light"
     },
     "output_type": "display_data"
    }
   ],
   "source": [
    "df[['EDAD']].clip(upper=250).boxplot()\n",
    "#limita los valores a un limite superior e inferior upper/lower"
   ]
  },
  {
   "cell_type": "code",
   "execution_count": 32,
   "metadata": {},
   "outputs": [
    {
     "data": {
      "text/plain": [
       "<AxesSubplot:>"
      ]
     },
     "execution_count": 32,
     "metadata": {},
     "output_type": "execute_result"
    },
    {
     "data": {
      "image/png": "[encoded data removed]",
      "text/plain": [
       "<Figure size 432x288 with 1 Axes>"
      ]
     },
     "metadata": {
      "needs_background": "light"
     },
     "output_type": "display_data"
    }
   ],
   "source": [
    "df[['EDAD']].clip(upper=100).boxplot()"
   ]
  },
  {
   "cell_type": "code",
   "execution_count": 33,
   "metadata": {},
   "outputs": [
    {
     "name": "stdout",
     "output_type": "stream",
     "text": [
      "0          25.0\n",
      "1          37.0\n",
      "2          25.0\n",
      "3          27.0\n",
      "4          20.0\n",
      "           ... \n",
      "1048570    35.0\n",
      "1048571    36.0\n",
      "1048572    45.0\n",
      "1048573     6.0\n",
      "1048574     6.0\n",
      "Name: EDAD-clip, Length: 1048575, dtype: float64\n"
     ]
    }
   ],
   "source": [
    "df['EDAD-clip']= df['EDAD'].clip(upper=100)\n",
    "print(df['EDAD-clip'])\n",
    "#estoy reemplazando todos los valores mayores a 100 por 100"
   ]
  },
  {
   "cell_type": "code",
   "execution_count": 34,
   "metadata": {},
   "outputs": [
    {
     "data": {
      "text/plain": [
       "0.0"
      ]
     },
     "execution_count": 34,
     "metadata": {},
     "output_type": "execute_result"
    }
   ],
   "source": [
    "df['EDAD-clip'].min()"
   ]
  },
  {
   "cell_type": "code",
   "execution_count": 35,
   "metadata": {},
   "outputs": [
    {
     "data": {
      "text/plain": [
       "100.0"
      ]
     },
     "execution_count": 35,
     "metadata": {},
     "output_type": "execute_result"
    }
   ],
   "source": [
    "df['EDAD-clip'].max()"
   ]
  },
  {
   "cell_type": "code",
   "execution_count": 36,
   "metadata": {},
   "outputs": [
    {
     "data": {
      "text/plain": [
       "(983800, 1048575)"
      ]
     },
     "execution_count": 36,
     "metadata": {},
     "output_type": "execute_result"
    }
   ],
   "source": [
    "# Validar integridad del identificador \"único\"\n",
    "len(df['id_persona'].unique()), df.shape[0]"
   ]
  },
  {
   "cell_type": "code",
   "execution_count": 37,
   "metadata": {},
   "outputs": [
    {
     "data": {
      "text/plain": [
       "0          False\n",
       "1          False\n",
       "2          False\n",
       "3          False\n",
       "4          False\n",
       "           ...  \n",
       "1048570    False\n",
       "1048571    False\n",
       "1048572    False\n",
       "1048573    False\n",
       "1048574    False\n",
       "Name: id_persona, Length: 1048575, dtype: bool"
      ]
     },
     "execution_count": 37,
     "metadata": {},
     "output_type": "execute_result"
    }
   ],
   "source": [
    "# Nulos en id_persona\n",
    "df['id_persona'].isna() #no hay valor nulo, si fuera nulo aparecería true\n",
    "#isna.sum() es la agrupación de valores"
   ]
  },
  {
   "cell_type": "code",
   "execution_count": 38,
   "metadata": {},
   "outputs": [
    {
     "data": {
      "text/plain": [
       "32314110    10\n",
       "21271473     6\n",
       "26130233     5\n",
       "22932885     5\n",
       "23942780     5\n",
       "Name: id_persona, dtype: int64"
      ]
     },
     "execution_count": 38,
     "metadata": {},
     "output_type": "execute_result"
    }
   ],
   "source": [
    "# Conteo de cuantas veces se duplican los id_persona\n",
    "filtro_duplicados = df['id_persona'].duplicated(keep=False)\n",
    "df[filtro_duplicados]['id_persona'].value_counts().head()"
   ]
  },
  {
   "cell_type": "code",
   "execution_count": 39,
   "metadata": {},
   "outputs": [
    {
     "data": {
      "image/png": "[encoded data removed]",
      "text/plain": [
       "<Figure size 432x288 with 1 Axes>"
      ]
     },
     "metadata": {
      "needs_background": "light"
     },
     "output_type": "display_data"
    }
   ],
   "source": [
    "df['EDAD-clip'].hist()\n",
    "plt.show()"
   ]
  },
  {
   "cell_type": "code",
   "execution_count": 40,
   "metadata": {},
   "outputs": [],
   "source": [
    "rangos_edad = [0, 5, 11, 18, 25, 35, 50, 65, 75, 90, 100]\n",
    "edad_bins = pd.cut(df['EDAD-clip'], bins=rangos_edad)\n",
    "\n",
    "edad_bins_count = edad_bins.value_counts()"
   ]
  },
  {
   "cell_type": "code",
   "execution_count": 41,
   "metadata": {},
   "outputs": [
    {
     "data": {
      "text/plain": [
       "(25, 35]     391932\n",
       "(18, 25]     223312\n",
       "(35, 50]     217668\n",
       "(11, 18]      80579\n",
       "(50, 65]      50562\n",
       "(5, 11]       37083\n",
       "(0, 5]        18970\n",
       "(65, 75]      15559\n",
       "(75, 90]       9352\n",
       "(90, 100]       871\n",
       "Name: EDAD-clip, dtype: int64"
      ]
     },
     "execution_count": 41,
     "metadata": {},
     "output_type": "execute_result"
    }
   ],
   "source": [
    "edad_bins_count"
   ]
  },
  {
   "cell_type": "code",
   "execution_count": 42,
   "metadata": {},
   "outputs": [
    {
     "data": {
      "text/plain": [
       "<AxesSubplot:>"
      ]
     },
     "execution_count": 42,
     "metadata": {},
     "output_type": "execute_result"
    },
    {
     "data": {
      "image/png": "[encoded data removed]",
      "text/plain": [
       "<Figure size 432x288 with 1 Axes>"
      ]
     },
     "metadata": {
      "needs_background": "light"
     },
     "output_type": "display_data"
    }
   ],
   "source": [
    "edad_bins_count.sort_index().plot(kind='bar')"
   ]
  },
  {
   "cell_type": "code",
   "execution_count": 43,
   "metadata": {},
   "outputs": [],
   "source": [
    "df['edad_bins'] = edad_bins"
   ]
  },
  {
   "cell_type": "code",
   "execution_count": 44,
   "metadata": {},
   "outputs": [
    {
     "data": {
      "text/plain": [
       "count      1048575\n",
       "unique           2\n",
       "top       FEMENINO\n",
       "freq        540140\n",
       "Name: SEXO, dtype: object"
      ]
     },
     "execution_count": 44,
     "metadata": {},
     "output_type": "execute_result"
    }
   ],
   "source": [
    "df['SEXO'].describe()"
   ]
  },
  {
   "cell_type": "code",
   "execution_count": 45,
   "metadata": {},
   "outputs": [
    {
     "data": {
      "text/plain": [
       "(FEMENINO     540140\n",
       " MASCULINO    508435\n",
       " Name: SEXO, dtype: int64,\n",
       " FEMENINO     0.515118\n",
       " MASCULINO    0.484882\n",
       " Name: SEXO, dtype: float64)"
      ]
     },
     "execution_count": 45,
     "metadata": {},
     "output_type": "execute_result"
    }
   ],
   "source": [
    "df['SEXO'].value_counts(), df['SEXO'].value_counts(normalize=True)\n",
    "#cuando quieres el f=, m="
   ]
  },
  {
   "cell_type": "code",
   "execution_count": 46,
   "metadata": {},
   "outputs": [
    {
     "data": {
      "text/plain": [
       "(0, 0.0)"
      ]
     },
     "execution_count": 46,
     "metadata": {},
     "output_type": "execute_result"
    }
   ],
   "source": [
    "# Valores perdidos / missings\n",
    "df['SEXO'].isna().sum(), df['SEXO'].isna().sum() / df.shape[0]"
   ]
  },
  {
   "cell_type": "code",
   "execution_count": 47,
   "metadata": {},
   "outputs": [
    {
     "data": {
      "text/html": [
       "<div>\n",
       "<style scoped>\n",
       "    .dataframe tbody tr th:only-of-type {\n",
       "        vertical-align: middle;\n",
       "    }\n",
       "\n",
       "    .dataframe tbody tr th {\n",
       "        vertical-align: top;\n",
       "    }\n",
       "\n",
       "    .dataframe thead th {\n",
       "        text-align: right;\n",
       "    }\n",
       "</style>\n",
       "<table border=\"1\" class=\"dataframe\">\n",
       "  <thead>\n",
       "    <tr style=\"text-align: right;\">\n",
       "      <th></th>\n",
       "      <th>edad_bins</th>\n",
       "      <th>SEXO</th>\n",
       "      <th>conteo</th>\n",
       "    </tr>\n",
       "  </thead>\n",
       "  <tbody>\n",
       "    <tr>\n",
       "      <th>0</th>\n",
       "      <td>(0, 5]</td>\n",
       "      <td>FEMENINO</td>\n",
       "      <td>9062</td>\n",
       "    </tr>\n",
       "    <tr>\n",
       "      <th>1</th>\n",
       "      <td>(0, 5]</td>\n",
       "      <td>MASCULINO</td>\n",
       "      <td>9908</td>\n",
       "    </tr>\n",
       "    <tr>\n",
       "      <th>2</th>\n",
       "      <td>(5, 11]</td>\n",
       "      <td>FEMENINO</td>\n",
       "      <td>18024</td>\n",
       "    </tr>\n",
       "    <tr>\n",
       "      <th>3</th>\n",
       "      <td>(5, 11]</td>\n",
       "      <td>MASCULINO</td>\n",
       "      <td>19059</td>\n",
       "    </tr>\n",
       "    <tr>\n",
       "      <th>4</th>\n",
       "      <td>(11, 18]</td>\n",
       "      <td>FEMENINO</td>\n",
       "      <td>43490</td>\n",
       "    </tr>\n",
       "  </tbody>\n",
       "</table>\n",
       "</div>"
      ],
      "text/plain": [
       "  edad_bins       SEXO  conteo\n",
       "0    (0, 5]   FEMENINO    9062\n",
       "1    (0, 5]  MASCULINO    9908\n",
       "2   (5, 11]   FEMENINO   18024\n",
       "3   (5, 11]  MASCULINO   19059\n",
       "4  (11, 18]   FEMENINO   43490"
      ]
     },
     "execution_count": 47,
     "metadata": {},
     "output_type": "execute_result"
    }
   ],
   "source": [
    "conteo_edad_x_sexo = (df[['edad_bins', 'SEXO']]\n",
    "                      .groupby(['edad_bins', 'SEXO']).size() # Agrupo y cuento las obs. por intervalo de edad y sexo \n",
    "                      .reset_index() # Convierte a df \n",
    "                      .rename({0: 'conteo'}, axis=1)) # Cambia el nombre de \"0\" a \"conteo\"\n",
    "conteo_edad_x_sexo.head()"
   ]
  },
  {
   "cell_type": "code",
   "execution_count": 48,
   "metadata": {},
   "outputs": [
    {
     "data": {
      "text/plain": [
       "<bound method NDFrame.head of     edad_bins       SEXO  conteo\n",
       "0      (0, 5]   FEMENINO    9062\n",
       "1      (0, 5]  MASCULINO    9908\n",
       "2     (5, 11]   FEMENINO   18024\n",
       "3     (5, 11]  MASCULINO   19059\n",
       "4    (11, 18]   FEMENINO   43490\n",
       "5    (11, 18]  MASCULINO   37089\n",
       "6    (18, 25]   FEMENINO  119605\n",
       "7    (18, 25]  MASCULINO  103707\n",
       "8    (25, 35]   FEMENINO  202957\n",
       "9    (25, 35]  MASCULINO  188975\n",
       "10   (35, 50]   FEMENINO  106269\n",
       "11   (35, 50]  MASCULINO  111399\n",
       "12   (50, 65]   FEMENINO   25749\n",
       "13   (50, 65]  MASCULINO   24813\n",
       "14   (65, 75]   FEMENINO    8015\n",
       "15   (65, 75]  MASCULINO    7544\n",
       "16   (75, 90]   FEMENINO    5230\n",
       "17   (75, 90]  MASCULINO    4122\n",
       "18  (90, 100]   FEMENINO     539\n",
       "19  (90, 100]  MASCULINO     332>"
      ]
     },
     "execution_count": 48,
     "metadata": {},
     "output_type": "execute_result"
    }
   ],
   "source": [
    "conteo_edad_x_sexo.head"
   ]
  },
  {
   "cell_type": "code",
   "execution_count": 49,
   "metadata": {},
   "outputs": [
    {
     "data": {
      "image/png": "[encoded data removed]",
      "text/plain": [
       "<Figure size 455.625x360 with 1 Axes>"
      ]
     },
     "metadata": {
      "needs_background": "light"
     },
     "output_type": "display_data"
    }
   ],
   "source": [
    "# Gráfica de barras de cantidad de personas por intervalo de edad en cada género\n",
    "g = sns.catplot(\n",
    "    data=conteo_edad_x_sexo, kind=\"bar\",\n",
    "    x=\"edad_bins\", y=\"conteo\", hue=\"SEXO\",\n",
    ")\n",
    "g.set_xticklabels(rotation=90)\n",
    "plt.show()"
   ]
  },
  {
   "cell_type": "code",
   "execution_count": 50,
   "metadata": {},
   "outputs": [
    {
     "data": {
      "text/plain": [
       "FECHA_CORTE  DEPARTAMENTO  PROVINCIA  DISTRITO                METODODX  EDAD  SEXO       FECHA_RESULTADO  UBIGEO    id_persona  EDAD-clip  edad_bins\n",
       "20220312     LIMA          LIMA       LIMA                    AG        26.0  MASCULINO  20210206.0       150101.0  24312110    26.0       (25, 35]     4\n",
       "                                      SAN MARTIN DE PORRES    AG        23.0  MASCULINO  20210522.0       150135.0  28385157    23.0       (18, 25]     4\n",
       "                                      LIMA                    AG        30.0  MASCULINO  20220105.0       150101.0  23436161    30.0       (25, 35]     4\n",
       "             JUNIN         HUANCAYO   HUANCAYO                AG        18.0  FEMENINO   20210515.0       120101.0  28312210    18.0       (11, 18]     4\n",
       "             LIMA          LIMA       SAN JUAN DE MIRAFLORES  AG        33.0  FEMENINO   20210212.0       150133.0  19631944    33.0       (25, 35]     4\n",
       "                                                                                                                                                       ..\n",
       "             JUNIN         HUANCAYO   EL TAMBO                PR        25.0  FEMENINO   20200515.0       120114.0  27277575    25.0       (18, 25]     1\n",
       "                                                                                         20200602.0       120114.0  28625538    25.0       (18, 25]     1\n",
       "                                                                                         20200625.0       120114.0  30666827    25.0       (18, 25]     1\n",
       "                                                                                         20200627.0       120114.0  31119223    25.0       (18, 25]     1\n",
       "             UCAYALI       PURUS      PURUS                   PR        73.0  FEMENINO   20200917.0       250401.0  20924391    73.0       (65, 75]     1\n",
       "Length: 987514, dtype: int64"
      ]
     },
     "execution_count": 50,
     "metadata": {},
     "output_type": "execute_result"
    }
   ],
   "source": [
    "df.value_counts()"
   ]
  },
  {
   "cell_type": "code",
   "execution_count": 51,
   "metadata": {},
   "outputs": [
    {
     "data": {
      "text/html": [
       "<div>\n",
       "<style scoped>\n",
       "    .dataframe tbody tr th:only-of-type {\n",
       "        vertical-align: middle;\n",
       "    }\n",
       "\n",
       "    .dataframe tbody tr th {\n",
       "        vertical-align: top;\n",
       "    }\n",
       "\n",
       "    .dataframe thead th {\n",
       "        text-align: right;\n",
       "    }\n",
       "</style>\n",
       "<table border=\"1\" class=\"dataframe\">\n",
       "  <thead>\n",
       "    <tr style=\"text-align: right;\">\n",
       "      <th></th>\n",
       "      <th>UBIGEO</th>\n",
       "      <th>DEPARTAMENTO</th>\n",
       "      <th>PROVINCIA</th>\n",
       "      <th>DISTRITO</th>\n",
       "    </tr>\n",
       "  </thead>\n",
       "  <tbody>\n",
       "    <tr>\n",
       "      <th>0</th>\n",
       "      <td>70101.0</td>\n",
       "      <td>CALLAO</td>\n",
       "      <td>CALLAO</td>\n",
       "      <td>CALLAO</td>\n",
       "    </tr>\n",
       "    <tr>\n",
       "      <th>1</th>\n",
       "      <td>150108.0</td>\n",
       "      <td>LIMA</td>\n",
       "      <td>LIMA</td>\n",
       "      <td>CHORRILLOS</td>\n",
       "    </tr>\n",
       "    <tr>\n",
       "      <th>2</th>\n",
       "      <td>150135.0</td>\n",
       "      <td>LIMA</td>\n",
       "      <td>LIMA</td>\n",
       "      <td>SAN MARTIN DE PORRES</td>\n",
       "    </tr>\n",
       "    <tr>\n",
       "      <th>3</th>\n",
       "      <td>40101.0</td>\n",
       "      <td>AREQUIPA</td>\n",
       "      <td>AREQUIPA</td>\n",
       "      <td>AREQUIPA</td>\n",
       "    </tr>\n",
       "    <tr>\n",
       "      <th>4</th>\n",
       "      <td>110501.0</td>\n",
       "      <td>ICA</td>\n",
       "      <td>PISCO</td>\n",
       "      <td>PISCO</td>\n",
       "    </tr>\n",
       "  </tbody>\n",
       "</table>\n",
       "</div>"
      ],
      "text/plain": [
       "     UBIGEO DEPARTAMENTO PROVINCIA              DISTRITO\n",
       "0   70101.0       CALLAO    CALLAO                CALLAO\n",
       "1  150108.0         LIMA      LIMA            CHORRILLOS\n",
       "2  150135.0         LIMA      LIMA  SAN MARTIN DE PORRES\n",
       "3   40101.0     AREQUIPA  AREQUIPA              AREQUIPA\n",
       "4  110501.0          ICA     PISCO                 PISCO"
      ]
     },
     "execution_count": 51,
     "metadata": {},
     "output_type": "execute_result"
    }
   ],
   "source": [
    "local_vars = ['UBIGEO', 'DEPARTAMENTO', 'PROVINCIA', 'DISTRITO']\n",
    "df[local_vars].head()"
   ]
  },
  {
   "cell_type": "code",
   "execution_count": 52,
   "metadata": {},
   "outputs": [],
   "source": [
    "df['UBIGEO'] = df['UBIGEO'].astype(str)"
   ]
  },
  {
   "cell_type": "code",
   "execution_count": 53,
   "metadata": {},
   "outputs": [
    {
     "data": {
      "text/plain": [
       "UBIGEO           0\n",
       "DEPARTAMENTO    83\n",
       "PROVINCIA        0\n",
       "DISTRITO         0\n",
       "dtype: int64"
      ]
     },
     "execution_count": 53,
     "metadata": {},
     "output_type": "execute_result"
    }
   ],
   "source": [
    "# Conteo de valores nulos para mi dataframe creado local_vars\n",
    "df[local_vars].isna().sum()"
   ]
  },
  {
   "cell_type": "code",
   "execution_count": 54,
   "metadata": {},
   "outputs": [],
   "source": [
    "#dropna para eliminar valores nulos\n",
    "df= df.dropna()"
   ]
  },
  {
   "cell_type": "code",
   "execution_count": 55,
   "metadata": {},
   "outputs": [
    {
     "data": {
      "text/plain": [
       "array(['CALLAO', 'CHORRILLOS', 'SAN MARTIN DE PORRES', ..., 'MAMARA',\n",
       "       'MANGAS', 'SANTIAGO DE ANCHUCAYA'], dtype=object)"
      ]
     },
     "execution_count": 55,
     "metadata": {},
     "output_type": "execute_result"
    }
   ],
   "source": [
    "df.DISTRITO.unique()"
   ]
  },
  {
   "cell_type": "code",
   "execution_count": 56,
   "metadata": {},
   "outputs": [
    {
     "data": {
      "text/html": [
       "<div>\n",
       "<style scoped>\n",
       "    .dataframe tbody tr th:only-of-type {\n",
       "        vertical-align: middle;\n",
       "    }\n",
       "\n",
       "    .dataframe tbody tr th {\n",
       "        vertical-align: top;\n",
       "    }\n",
       "\n",
       "    .dataframe thead th {\n",
       "        text-align: right;\n",
       "    }\n",
       "</style>\n",
       "<table border=\"1\" class=\"dataframe\">\n",
       "  <thead>\n",
       "    <tr style=\"text-align: right;\">\n",
       "      <th></th>\n",
       "    </tr>\n",
       "    <tr>\n",
       "      <th>0</th>\n",
       "    </tr>\n",
       "  </thead>\n",
       "  <tbody>\n",
       "    <tr>\n",
       "      <th>CALLAO</th>\n",
       "    </tr>\n",
       "    <tr>\n",
       "      <th>CHORRILLOS</th>\n",
       "    </tr>\n",
       "    <tr>\n",
       "      <th>SAN MARTIN DE PORRES</th>\n",
       "    </tr>\n",
       "    <tr>\n",
       "      <th>AREQUIPA</th>\n",
       "    </tr>\n",
       "    <tr>\n",
       "      <th>PISCO</th>\n",
       "    </tr>\n",
       "    <tr>\n",
       "      <th>...</th>\n",
       "    </tr>\n",
       "    <tr>\n",
       "      <th>AMASHCA</th>\n",
       "    </tr>\n",
       "    <tr>\n",
       "      <th>RAPAYAN</th>\n",
       "    </tr>\n",
       "    <tr>\n",
       "      <th>MAMARA</th>\n",
       "    </tr>\n",
       "    <tr>\n",
       "      <th>MANGAS</th>\n",
       "    </tr>\n",
       "    <tr>\n",
       "      <th>SANTIAGO DE ANCHUCAYA</th>\n",
       "    </tr>\n",
       "  </tbody>\n",
       "</table>\n",
       "<p>1677 rows × 0 columns</p>\n",
       "</div>"
      ],
      "text/plain": [
       "Empty DataFrame\n",
       "Columns: []\n",
       "Index: [CALLAO, CHORRILLOS, SAN MARTIN DE PORRES, AREQUIPA, PISCO, EN INVESTIGACIÃ“N, HUANUCO, SANTA, NUEVO CHIMBOTE, SANTIAGO DE SURCO, LIMA, PACHACAMAC, PAMPAS DE HOSPITAL, LA MOLINA, ATE, PUNO, ANDAHUAYLAS, CHANCHAMAYO, CASTILLA, LA VICTORIA, PUENTE PIEDRA, TAMBOPATA, SANTA ANITA, ROSARIO, MI PERU, SAN JUAN DE LURIGANCHO, YANAHUARA, CUSCO, PANGOA, CHICLAYO, LAS PIEDRAS, TRUJILLO, MIRAFLORES, LAREDO, VENTANILLA, JESUS MARIA, CHILCA, MAGDALENA DEL MAR, HUALMAY, NIEVA, HUANCARANI, SORITOR, VILLA MARIA DEL TRIUNFO, ILO, JULIACA, LA JOYA, EL TAMBO, SAN JUAN DE MIRAFLORES, PAUCARPATA, CHIMBOTE, PUCUSANA, RIMAC, PAITA, SULLANA, PUTUMAYO, BARRANCO, BARRANCA, HUARMACA, JUNIN, CARHUAMAYO, MOQUEGUA, HUARAL, ARAMANGO, MORALES, TARAPOTO, HUANCAYO, UCHUMAYO, ANCON, QUELLOUNO, HUAROCONDO, MORROPON, PIURA, CHACHAPOYAS, CERRO COLORADO, CHACLACAYO, LA PERLA, BELLAVISTA, CHALLHUAHUACHO, LOS OLIVOS, ABANCAY, SAÃ‘A, TUMBES, ANTA, LA ESPERANZA, CAYMA, SACHACA, IQUITOS, VILLA EL SALVADOR, SAN BORJA, CAJARURO, JOSE LEONARDO ORTIZ, SAN ISIDRO, YURIMAGUAS, CORONEL GREGORIO ALBARRACIN L., SAMEGUA, EL AGUSTINO, SAMUEL PASTOR, SAN JUAN BAUTISTA, AYACUCHO, BOLIVAR, ...]\n",
       "\n",
       "[1677 rows x 0 columns]"
      ]
     },
     "execution_count": 56,
     "metadata": {},
     "output_type": "execute_result"
    }
   ],
   "source": [
    "n_dis = pd.DataFrame(df.DISTRITO.unique()).set_index(0)\n",
    "n_dis\n"
   ]
  },
  {
   "cell_type": "code",
   "execution_count": 57,
   "metadata": {},
   "outputs": [
    {
     "data": {
      "text/plain": [
       "(1677, 0)"
      ]
     },
     "execution_count": 57,
     "metadata": {},
     "output_type": "execute_result"
    }
   ],
   "source": [
    "n_dis.shape"
   ]
  },
  {
   "cell_type": "code",
   "execution_count": 58,
   "metadata": {},
   "outputs": [
    {
     "data": {
      "text/plain": [
       "Series([], Name: EN INVESTIGACIÃ“N, dtype: float64)"
      ]
     },
     "execution_count": 58,
     "metadata": {},
     "output_type": "execute_result"
    }
   ],
   "source": [
    "n_dis.loc[\"EN INVESTIGACIÃ“N\"].T"
   ]
  },
  {
   "cell_type": "code",
   "execution_count": 59,
   "metadata": {},
   "outputs": [
    {
     "data": {
      "text/plain": [
       "604812"
      ]
     },
     "execution_count": 59,
     "metadata": {},
     "output_type": "execute_result"
    }
   ],
   "source": [
    "df[df['DISTRITO']=='EN INVESTIGACIÃ“N'].size"
   ]
  },
  {
   "cell_type": "code",
   "execution_count": 60,
   "metadata": {},
   "outputs": [
    {
     "data": {
      "text/plain": [
       "(1045228, 12)"
      ]
     },
     "execution_count": 60,
     "metadata": {},
     "output_type": "execute_result"
    }
   ],
   "source": [
    "df.shape"
   ]
  },
  {
   "cell_type": "code",
   "execution_count": 61,
   "metadata": {},
   "outputs": [],
   "source": [
    "# df.loc es para encontrar la ubicacion de la fila, dentro del corchete le damos el valor \n",
    "# != no queremos que contenga \" EN INVESTIGACIÃ“N\"\n",
    "# le estamos diciendo a mi tabla que no contenga estos valores\n",
    "df = df.loc[(df[\"DISTRITO\"] != 'EN INVESTIGACIÃ“N')]"
   ]
  },
  {
   "cell_type": "code",
   "execution_count": 62,
   "metadata": {},
   "outputs": [
    {
     "data": {
      "text/plain": [
       "(994827, 12)"
      ]
     },
     "execution_count": 62,
     "metadata": {},
     "output_type": "execute_result"
    }
   ],
   "source": [
    "df.shape"
   ]
  },
  {
   "cell_type": "code",
   "execution_count": 63,
   "metadata": {},
   "outputs": [
    {
     "data": {
      "text/plain": [
       "0"
      ]
     },
     "execution_count": 63,
     "metadata": {},
     "output_type": "execute_result"
    }
   ],
   "source": [
    "df[df['UBIGEO']=='nan'].size"
   ]
  },
  {
   "cell_type": "code",
   "execution_count": 64,
   "metadata": {},
   "outputs": [
    {
     "data": {
      "text/plain": [
       "UBIGEO          0\n",
       "DEPARTAMENTO    0\n",
       "PROVINCIA       0\n",
       "DISTRITO        0\n",
       "dtype: int64"
      ]
     },
     "execution_count": 64,
     "metadata": {},
     "output_type": "execute_result"
    }
   ],
   "source": [
    "df[local_vars].isnull().sum()"
   ]
  },
  {
   "cell_type": "code",
   "execution_count": 65,
   "metadata": {},
   "outputs": [
    {
     "data": {
      "text/plain": [
       "FECHA_CORTE        0\n",
       "DEPARTAMENTO       0\n",
       "PROVINCIA          0\n",
       "DISTRITO           0\n",
       "METODODX           0\n",
       "EDAD               0\n",
       "SEXO               0\n",
       "FECHA_RESULTADO    0\n",
       "UBIGEO             0\n",
       "id_persona         0\n",
       "EDAD-clip          0\n",
       "edad_bins          0\n",
       "dtype: int64"
      ]
     },
     "execution_count": 65,
     "metadata": {},
     "output_type": "execute_result"
    }
   ],
   "source": [
    "df.isna().sum()"
   ]
  },
  {
   "cell_type": "code",
   "execution_count": 68,
   "metadata": {},
   "outputs": [
    {
     "data": {
      "text/html": [
       "<div>\n",
       "<style scoped>\n",
       "    .dataframe tbody tr th:only-of-type {\n",
       "        vertical-align: middle;\n",
       "    }\n",
       "\n",
       "    .dataframe tbody tr th {\n",
       "        vertical-align: top;\n",
       "    }\n",
       "\n",
       "    .dataframe thead th {\n",
       "        text-align: right;\n",
       "    }\n",
       "</style>\n",
       "<table border=\"1\" class=\"dataframe\">\n",
       "  <thead>\n",
       "    <tr style=\"text-align: right;\">\n",
       "      <th></th>\n",
       "      <th>FECHA_CORTE</th>\n",
       "      <th>DEPARTAMENTO</th>\n",
       "      <th>PROVINCIA</th>\n",
       "      <th>DISTRITO</th>\n",
       "      <th>METODODX</th>\n",
       "      <th>EDAD</th>\n",
       "      <th>SEXO</th>\n",
       "      <th>FECHA_RESULTADO</th>\n",
       "      <th>UBIGEO</th>\n",
       "      <th>id_persona</th>\n",
       "      <th>EDAD-clip</th>\n",
       "      <th>edad_bins</th>\n",
       "      <th>AÑO_RESULTADO</th>\n",
       "    </tr>\n",
       "  </thead>\n",
       "  <tbody>\n",
       "    <tr>\n",
       "      <th>0</th>\n",
       "      <td>20220312</td>\n",
       "      <td>CALLAO</td>\n",
       "      <td>CALLAO</td>\n",
       "      <td>CALLAO</td>\n",
       "      <td>PR</td>\n",
       "      <td>25.0</td>\n",
       "      <td>MASCULINO</td>\n",
       "      <td>20200619.0</td>\n",
       "      <td>70101.0</td>\n",
       "      <td>24662494</td>\n",
       "      <td>25.0</td>\n",
       "      <td>(18, 25]</td>\n",
       "      <td>2020</td>\n",
       "    </tr>\n",
       "    <tr>\n",
       "      <th>1</th>\n",
       "      <td>20220312</td>\n",
       "      <td>LIMA</td>\n",
       "      <td>LIMA</td>\n",
       "      <td>CHORRILLOS</td>\n",
       "      <td>PR</td>\n",
       "      <td>37.0</td>\n",
       "      <td>FEMENINO</td>\n",
       "      <td>20200912.0</td>\n",
       "      <td>150108.0</td>\n",
       "      <td>24662689</td>\n",
       "      <td>37.0</td>\n",
       "      <td>(35, 50]</td>\n",
       "      <td>2020</td>\n",
       "    </tr>\n",
       "    <tr>\n",
       "      <th>2</th>\n",
       "      <td>20220312</td>\n",
       "      <td>LIMA</td>\n",
       "      <td>LIMA</td>\n",
       "      <td>SAN MARTIN DE PORRES</td>\n",
       "      <td>PR</td>\n",
       "      <td>25.0</td>\n",
       "      <td>MASCULINO</td>\n",
       "      <td>20201217.0</td>\n",
       "      <td>150135.0</td>\n",
       "      <td>24662153</td>\n",
       "      <td>25.0</td>\n",
       "      <td>(18, 25]</td>\n",
       "      <td>2020</td>\n",
       "    </tr>\n",
       "    <tr>\n",
       "      <th>3</th>\n",
       "      <td>20220312</td>\n",
       "      <td>AREQUIPA</td>\n",
       "      <td>AREQUIPA</td>\n",
       "      <td>AREQUIPA</td>\n",
       "      <td>PCR</td>\n",
       "      <td>27.0</td>\n",
       "      <td>MASCULINO</td>\n",
       "      <td>20220120.0</td>\n",
       "      <td>40101.0</td>\n",
       "      <td>24662155</td>\n",
       "      <td>27.0</td>\n",
       "      <td>(25, 35]</td>\n",
       "      <td>2022</td>\n",
       "    </tr>\n",
       "    <tr>\n",
       "      <th>4</th>\n",
       "      <td>20220312</td>\n",
       "      <td>ICA</td>\n",
       "      <td>PISCO</td>\n",
       "      <td>PISCO</td>\n",
       "      <td>PR</td>\n",
       "      <td>20.0</td>\n",
       "      <td>FEMENINO</td>\n",
       "      <td>20200822.0</td>\n",
       "      <td>110501.0</td>\n",
       "      <td>24662175</td>\n",
       "      <td>20.0</td>\n",
       "      <td>(18, 25]</td>\n",
       "      <td>2020</td>\n",
       "    </tr>\n",
       "  </tbody>\n",
       "</table>\n",
       "</div>"
      ],
      "text/plain": [
       "   FECHA_CORTE DEPARTAMENTO PROVINCIA              DISTRITO METODODX  EDAD  \\\n",
       "0     20220312       CALLAO    CALLAO                CALLAO       PR  25.0   \n",
       "1     20220312         LIMA      LIMA            CHORRILLOS       PR  37.0   \n",
       "2     20220312         LIMA      LIMA  SAN MARTIN DE PORRES       PR  25.0   \n",
       "3     20220312     AREQUIPA  AREQUIPA              AREQUIPA      PCR  27.0   \n",
       "4     20220312          ICA     PISCO                 PISCO       PR  20.0   \n",
       "\n",
       "        SEXO  FECHA_RESULTADO    UBIGEO  id_persona  EDAD-clip edad_bins  \\\n",
       "0  MASCULINO       20200619.0   70101.0    24662494       25.0  (18, 25]   \n",
       "1   FEMENINO       20200912.0  150108.0    24662689       37.0  (35, 50]   \n",
       "2  MASCULINO       20201217.0  150135.0    24662153       25.0  (18, 25]   \n",
       "3  MASCULINO       20220120.0   40101.0    24662155       27.0  (25, 35]   \n",
       "4   FEMENINO       20200822.0  110501.0    24662175       20.0  (18, 25]   \n",
       "\n",
       "   AÑO_RESULTADO  \n",
       "0           2020  \n",
       "1           2020  \n",
       "2           2020  \n",
       "3           2022  \n",
       "4           2020  "
      ]
     },
     "execution_count": 68,
     "metadata": {},
     "output_type": "execute_result"
    }
   ],
   "source": [
    "df.head()"
   ]
  },
  {
   "cell_type": "code",
   "execution_count": 66,
   "metadata": {},
   "outputs": [],
   "source": [
    "df['AÑO_RESULTADO'] = df['FECHA_RESULTADO'].astype(str).str[0:4].astype(int)\n",
    "#la columna de la fecha la convierto en string, una vez que esta convertido podemos hacer tecnicas\n",
    "#de procesamiento de datos textuales. nos quedamos con 4 digitos [0:4]"
   ]
  },
  {
   "cell_type": "code",
   "execution_count": 67,
   "metadata": {},
   "outputs": [
    {
     "data": {
      "text/plain": [
       "0    2020\n",
       "1    2020\n",
       "2    2020\n",
       "3    2022\n",
       "4    2020\n",
       "Name: AÑO_RESULTADO, dtype: int32"
      ]
     },
     "execution_count": 67,
     "metadata": {},
     "output_type": "execute_result"
    }
   ],
   "source": [
    "df['AÑO_RESULTADO'].head()"
   ]
  },
  {
   "cell_type": "code",
   "execution_count": 69,
   "metadata": {},
   "outputs": [
    {
     "data": {
      "text/plain": [
       "AÑO_RESULTADO\n",
       "2020    258058\n",
       "2021    349432\n",
       "2022    387337\n",
       "Name: id_persona, dtype: int64"
      ]
     },
     "execution_count": 69,
     "metadata": {},
     "output_type": "execute_result"
    }
   ],
   "source": [
    "#agrupamiento por año resultado y poner un contador\n",
    "df.groupby(by='AÑO_RESULTADO')['id_persona'].count()\n",
    "#agrupamos el dataframe por una columna, seleccionamos la columna y contamos cuantos casos hay\n",
    "#por cada resultado"
   ]
  },
  {
   "cell_type": "code",
   "execution_count": 72,
   "metadata": {},
   "outputs": [
    {
     "data": {
      "text/html": [
       "<div>\n",
       "<style scoped>\n",
       "    .dataframe tbody tr th:only-of-type {\n",
       "        vertical-align: middle;\n",
       "    }\n",
       "\n",
       "    .dataframe tbody tr th {\n",
       "        vertical-align: top;\n",
       "    }\n",
       "\n",
       "    .dataframe thead th {\n",
       "        text-align: right;\n",
       "    }\n",
       "</style>\n",
       "<table border=\"1\" class=\"dataframe\">\n",
       "  <thead>\n",
       "    <tr style=\"text-align: right;\">\n",
       "      <th></th>\n",
       "      <th>FECHA_CORTE</th>\n",
       "      <th>DEPARTAMENTO</th>\n",
       "      <th>PROVINCIA</th>\n",
       "      <th>DISTRITO</th>\n",
       "      <th>METODODX</th>\n",
       "      <th>EDAD</th>\n",
       "      <th>SEXO</th>\n",
       "      <th>FECHA_RESULTADO</th>\n",
       "      <th>UBIGEO</th>\n",
       "      <th>id_persona</th>\n",
       "      <th>EDAD-clip</th>\n",
       "      <th>edad_bins</th>\n",
       "      <th>AÑO_RESULTADO</th>\n",
       "    </tr>\n",
       "  </thead>\n",
       "  <tbody>\n",
       "    <tr>\n",
       "      <th>55174</th>\n",
       "      <td>20220312</td>\n",
       "      <td>ICA</td>\n",
       "      <td>PALPA</td>\n",
       "      <td>PALPA</td>\n",
       "      <td>AG</td>\n",
       "      <td>40.0</td>\n",
       "      <td>MASCULINO</td>\n",
       "      <td>20211102.0</td>\n",
       "      <td>110401.0</td>\n",
       "      <td>19367925</td>\n",
       "      <td>40.0</td>\n",
       "      <td>(35, 50]</td>\n",
       "      <td>2021</td>\n",
       "    </tr>\n",
       "    <tr>\n",
       "      <th>54993</th>\n",
       "      <td>20220312</td>\n",
       "      <td>ICA</td>\n",
       "      <td>PALPA</td>\n",
       "      <td>PALPA</td>\n",
       "      <td>PCR</td>\n",
       "      <td>40.0</td>\n",
       "      <td>MASCULINO</td>\n",
       "      <td>20211105.0</td>\n",
       "      <td>110401.0</td>\n",
       "      <td>19367925</td>\n",
       "      <td>40.0</td>\n",
       "      <td>(35, 50]</td>\n",
       "      <td>2021</td>\n",
       "    </tr>\n",
       "    <tr>\n",
       "      <th>55303</th>\n",
       "      <td>20220312</td>\n",
       "      <td>HUANCAVELICA</td>\n",
       "      <td>CHURCAMPA</td>\n",
       "      <td>CHURCAMPA</td>\n",
       "      <td>PCR</td>\n",
       "      <td>48.0</td>\n",
       "      <td>MASCULINO</td>\n",
       "      <td>20211210.0</td>\n",
       "      <td>90501.0</td>\n",
       "      <td>19368164</td>\n",
       "      <td>48.0</td>\n",
       "      <td>(35, 50]</td>\n",
       "      <td>2021</td>\n",
       "    </tr>\n",
       "    <tr>\n",
       "      <th>54994</th>\n",
       "      <td>20220312</td>\n",
       "      <td>HUANCAVELICA</td>\n",
       "      <td>CHURCAMPA</td>\n",
       "      <td>CHURCAMPA</td>\n",
       "      <td>AG</td>\n",
       "      <td>47.0</td>\n",
       "      <td>MASCULINO</td>\n",
       "      <td>20210331.0</td>\n",
       "      <td>90501.0</td>\n",
       "      <td>19368164</td>\n",
       "      <td>47.0</td>\n",
       "      <td>(35, 50]</td>\n",
       "      <td>2021</td>\n",
       "    </tr>\n",
       "    <tr>\n",
       "      <th>65502</th>\n",
       "      <td>20220312</td>\n",
       "      <td>LIMA</td>\n",
       "      <td>LIMA</td>\n",
       "      <td>LIMA</td>\n",
       "      <td>PCR</td>\n",
       "      <td>34.0</td>\n",
       "      <td>FEMENINO</td>\n",
       "      <td>20220122.0</td>\n",
       "      <td>150101.0</td>\n",
       "      <td>19368725</td>\n",
       "      <td>34.0</td>\n",
       "      <td>(25, 35]</td>\n",
       "      <td>2022</td>\n",
       "    </tr>\n",
       "    <tr>\n",
       "      <th>...</th>\n",
       "      <td>...</td>\n",
       "      <td>...</td>\n",
       "      <td>...</td>\n",
       "      <td>...</td>\n",
       "      <td>...</td>\n",
       "      <td>...</td>\n",
       "      <td>...</td>\n",
       "      <td>...</td>\n",
       "      <td>...</td>\n",
       "      <td>...</td>\n",
       "      <td>...</td>\n",
       "      <td>...</td>\n",
       "      <td>...</td>\n",
       "    </tr>\n",
       "    <tr>\n",
       "      <th>1043500</th>\n",
       "      <td>20220312</td>\n",
       "      <td>LIMA</td>\n",
       "      <td>LIMA</td>\n",
       "      <td>LIMA</td>\n",
       "      <td>PCR</td>\n",
       "      <td>5.0</td>\n",
       "      <td>FEMENINO</td>\n",
       "      <td>20220127.0</td>\n",
       "      <td>150101.0</td>\n",
       "      <td>34039240</td>\n",
       "      <td>5.0</td>\n",
       "      <td>(0, 5]</td>\n",
       "      <td>2022</td>\n",
       "    </tr>\n",
       "    <tr>\n",
       "      <th>1040865</th>\n",
       "      <td>20220312</td>\n",
       "      <td>APURIMAC</td>\n",
       "      <td>ANDAHUAYLAS</td>\n",
       "      <td>TALAVERA</td>\n",
       "      <td>PCR</td>\n",
       "      <td>25.0</td>\n",
       "      <td>MASCULINO</td>\n",
       "      <td>20220119.0</td>\n",
       "      <td>30216.0</td>\n",
       "      <td>34095894</td>\n",
       "      <td>25.0</td>\n",
       "      <td>(18, 25]</td>\n",
       "      <td>2022</td>\n",
       "    </tr>\n",
       "    <tr>\n",
       "      <th>1041188</th>\n",
       "      <td>20220312</td>\n",
       "      <td>APURIMAC</td>\n",
       "      <td>ANDAHUAYLAS</td>\n",
       "      <td>TALAVERA</td>\n",
       "      <td>AG</td>\n",
       "      <td>25.0</td>\n",
       "      <td>MASCULINO</td>\n",
       "      <td>20220116.0</td>\n",
       "      <td>30216.0</td>\n",
       "      <td>34095894</td>\n",
       "      <td>25.0</td>\n",
       "      <td>(18, 25]</td>\n",
       "      <td>2022</td>\n",
       "    </tr>\n",
       "    <tr>\n",
       "      <th>1043202</th>\n",
       "      <td>20220312</td>\n",
       "      <td>ANCASH</td>\n",
       "      <td>HUARAZ</td>\n",
       "      <td>HUARAZ</td>\n",
       "      <td>AG</td>\n",
       "      <td>37.0</td>\n",
       "      <td>FEMENINO</td>\n",
       "      <td>20220106.0</td>\n",
       "      <td>20101.0</td>\n",
       "      <td>34119558</td>\n",
       "      <td>37.0</td>\n",
       "      <td>(35, 50]</td>\n",
       "      <td>2022</td>\n",
       "    </tr>\n",
       "    <tr>\n",
       "      <th>1043198</th>\n",
       "      <td>20220312</td>\n",
       "      <td>ANCASH</td>\n",
       "      <td>HUARAZ</td>\n",
       "      <td>HUARAZ</td>\n",
       "      <td>AG</td>\n",
       "      <td>36.0</td>\n",
       "      <td>FEMENINO</td>\n",
       "      <td>20210213.0</td>\n",
       "      <td>20101.0</td>\n",
       "      <td>34119558</td>\n",
       "      <td>36.0</td>\n",
       "      <td>(35, 50]</td>\n",
       "      <td>2021</td>\n",
       "    </tr>\n",
       "  </tbody>\n",
       "</table>\n",
       "<p>116065 rows × 13 columns</p>\n",
       "</div>"
      ],
      "text/plain": [
       "         FECHA_CORTE  DEPARTAMENTO    PROVINCIA   DISTRITO METODODX  EDAD  \\\n",
       "55174       20220312           ICA        PALPA      PALPA       AG  40.0   \n",
       "54993       20220312           ICA        PALPA      PALPA      PCR  40.0   \n",
       "55303       20220312  HUANCAVELICA    CHURCAMPA  CHURCAMPA      PCR  48.0   \n",
       "54994       20220312  HUANCAVELICA    CHURCAMPA  CHURCAMPA       AG  47.0   \n",
       "65502       20220312          LIMA         LIMA       LIMA      PCR  34.0   \n",
       "...              ...           ...          ...        ...      ...   ...   \n",
       "1043500     20220312          LIMA         LIMA       LIMA      PCR   5.0   \n",
       "1040865     20220312      APURIMAC  ANDAHUAYLAS   TALAVERA      PCR  25.0   \n",
       "1041188     20220312      APURIMAC  ANDAHUAYLAS   TALAVERA       AG  25.0   \n",
       "1043202     20220312        ANCASH       HUARAZ     HUARAZ       AG  37.0   \n",
       "1043198     20220312        ANCASH       HUARAZ     HUARAZ       AG  36.0   \n",
       "\n",
       "              SEXO  FECHA_RESULTADO    UBIGEO  id_persona  EDAD-clip  \\\n",
       "55174    MASCULINO       20211102.0  110401.0    19367925       40.0   \n",
       "54993    MASCULINO       20211105.0  110401.0    19367925       40.0   \n",
       "55303    MASCULINO       20211210.0   90501.0    19368164       48.0   \n",
       "54994    MASCULINO       20210331.0   90501.0    19368164       47.0   \n",
       "65502     FEMENINO       20220122.0  150101.0    19368725       34.0   \n",
       "...            ...              ...       ...         ...        ...   \n",
       "1043500   FEMENINO       20220127.0  150101.0    34039240        5.0   \n",
       "1040865  MASCULINO       20220119.0   30216.0    34095894       25.0   \n",
       "1041188  MASCULINO       20220116.0   30216.0    34095894       25.0   \n",
       "1043202   FEMENINO       20220106.0   20101.0    34119558       37.0   \n",
       "1043198   FEMENINO       20210213.0   20101.0    34119558       36.0   \n",
       "\n",
       "        edad_bins  AÑO_RESULTADO  \n",
       "55174    (35, 50]           2021  \n",
       "54993    (35, 50]           2021  \n",
       "55303    (35, 50]           2021  \n",
       "54994    (35, 50]           2021  \n",
       "65502    (25, 35]           2022  \n",
       "...           ...            ...  \n",
       "1043500    (0, 5]           2022  \n",
       "1040865  (18, 25]           2022  \n",
       "1041188  (18, 25]           2022  \n",
       "1043202  (35, 50]           2022  \n",
       "1043198  (35, 50]           2021  \n",
       "\n",
       "[116065 rows x 13 columns]"
      ]
     },
     "execution_count": 72,
     "metadata": {},
     "output_type": "execute_result"
    }
   ],
   "source": [
    "df[df['id_persona'].duplicated(keep=False)].sort_values(by='id_persona')\n",
    "#pasarle el dt entero y solo me quedo con valores positivos y los agrupamos por el id persona"
   ]
  },
  {
   "cell_type": "code",
   "execution_count": 73,
   "metadata": {},
   "outputs": [
    {
     "data": {
      "text/plain": [
       "32314110    10\n",
       "21271473     6\n",
       "23942780     5\n",
       "22585553     5\n",
       "25836207     5\n",
       "Name: id_persona, dtype: int64"
      ]
     },
     "execution_count": 73,
     "metadata": {},
     "output_type": "execute_result"
    }
   ],
   "source": [
    "# Conteo de cuantas veces se duplican los id_persona\n",
    "filtro_duplicados = df['id_persona'].duplicated(keep=False)\n",
    "df[filtro_duplicados]['id_persona'].value_counts().head()"
   ]
  },
  {
   "cell_type": "code",
   "execution_count": 75,
   "metadata": {},
   "outputs": [
    {
     "data": {
      "text/html": [
       "<div>\n",
       "<style scoped>\n",
       "    .dataframe tbody tr th:only-of-type {\n",
       "        vertical-align: middle;\n",
       "    }\n",
       "\n",
       "    .dataframe tbody tr th {\n",
       "        vertical-align: top;\n",
       "    }\n",
       "\n",
       "    .dataframe thead th {\n",
       "        text-align: right;\n",
       "    }\n",
       "</style>\n",
       "<table border=\"1\" class=\"dataframe\">\n",
       "  <thead>\n",
       "    <tr style=\"text-align: right;\">\n",
       "      <th></th>\n",
       "      <th>FECHA_CORTE</th>\n",
       "      <th>DEPARTAMENTO</th>\n",
       "      <th>PROVINCIA</th>\n",
       "      <th>DISTRITO</th>\n",
       "      <th>METODODX</th>\n",
       "      <th>EDAD</th>\n",
       "      <th>SEXO</th>\n",
       "      <th>FECHA_RESULTADO</th>\n",
       "      <th>UBIGEO</th>\n",
       "      <th>id_persona</th>\n",
       "      <th>EDAD-clip</th>\n",
       "      <th>edad_bins</th>\n",
       "      <th>AÑO_RESULTADO</th>\n",
       "    </tr>\n",
       "  </thead>\n",
       "  <tbody>\n",
       "    <tr>\n",
       "      <th>974031</th>\n",
       "      <td>20220312</td>\n",
       "      <td>LIMA</td>\n",
       "      <td>LIMA</td>\n",
       "      <td>BREÃ‘A</td>\n",
       "      <td>PCR</td>\n",
       "      <td>22.0</td>\n",
       "      <td>FEMENINO</td>\n",
       "      <td>20201226.0</td>\n",
       "      <td>150105.0</td>\n",
       "      <td>32314110</td>\n",
       "      <td>22.0</td>\n",
       "      <td>(18, 25]</td>\n",
       "      <td>2020</td>\n",
       "    </tr>\n",
       "    <tr>\n",
       "      <th>974032</th>\n",
       "      <td>20220312</td>\n",
       "      <td>LIMA</td>\n",
       "      <td>LIMA</td>\n",
       "      <td>LIMA</td>\n",
       "      <td>AG</td>\n",
       "      <td>22.0</td>\n",
       "      <td>FEMENINO</td>\n",
       "      <td>20210114.0</td>\n",
       "      <td>150101.0</td>\n",
       "      <td>32314110</td>\n",
       "      <td>22.0</td>\n",
       "      <td>(18, 25]</td>\n",
       "      <td>2021</td>\n",
       "    </tr>\n",
       "    <tr>\n",
       "      <th>974033</th>\n",
       "      <td>20220312</td>\n",
       "      <td>LIMA</td>\n",
       "      <td>LIMA</td>\n",
       "      <td>LIMA</td>\n",
       "      <td>AG</td>\n",
       "      <td>23.0</td>\n",
       "      <td>FEMENINO</td>\n",
       "      <td>20201223.0</td>\n",
       "      <td>150101.0</td>\n",
       "      <td>32314110</td>\n",
       "      <td>23.0</td>\n",
       "      <td>(18, 25]</td>\n",
       "      <td>2020</td>\n",
       "    </tr>\n",
       "    <tr>\n",
       "      <th>974034</th>\n",
       "      <td>20220312</td>\n",
       "      <td>LIMA</td>\n",
       "      <td>LIMA</td>\n",
       "      <td>LIMA</td>\n",
       "      <td>AG</td>\n",
       "      <td>23.0</td>\n",
       "      <td>FEMENINO</td>\n",
       "      <td>20201223.0</td>\n",
       "      <td>150101.0</td>\n",
       "      <td>32314110</td>\n",
       "      <td>23.0</td>\n",
       "      <td>(18, 25]</td>\n",
       "      <td>2020</td>\n",
       "    </tr>\n",
       "    <tr>\n",
       "      <th>974123</th>\n",
       "      <td>20220312</td>\n",
       "      <td>LIMA</td>\n",
       "      <td>LIMA</td>\n",
       "      <td>LIMA</td>\n",
       "      <td>AG</td>\n",
       "      <td>23.0</td>\n",
       "      <td>FEMENINO</td>\n",
       "      <td>20201223.0</td>\n",
       "      <td>150101.0</td>\n",
       "      <td>32314110</td>\n",
       "      <td>23.0</td>\n",
       "      <td>(18, 25]</td>\n",
       "      <td>2020</td>\n",
       "    </tr>\n",
       "    <tr>\n",
       "      <th>974124</th>\n",
       "      <td>20220312</td>\n",
       "      <td>LIMA</td>\n",
       "      <td>LIMA</td>\n",
       "      <td>LIMA</td>\n",
       "      <td>AG</td>\n",
       "      <td>23.0</td>\n",
       "      <td>FEMENINO</td>\n",
       "      <td>20201223.0</td>\n",
       "      <td>150101.0</td>\n",
       "      <td>32314110</td>\n",
       "      <td>23.0</td>\n",
       "      <td>(18, 25]</td>\n",
       "      <td>2020</td>\n",
       "    </tr>\n",
       "    <tr>\n",
       "      <th>974125</th>\n",
       "      <td>20220312</td>\n",
       "      <td>LIMA</td>\n",
       "      <td>LIMA</td>\n",
       "      <td>LIMA</td>\n",
       "      <td>AG</td>\n",
       "      <td>22.0</td>\n",
       "      <td>FEMENINO</td>\n",
       "      <td>20201223.0</td>\n",
       "      <td>150101.0</td>\n",
       "      <td>32314110</td>\n",
       "      <td>22.0</td>\n",
       "      <td>(18, 25]</td>\n",
       "      <td>2020</td>\n",
       "    </tr>\n",
       "    <tr>\n",
       "      <th>974126</th>\n",
       "      <td>20220312</td>\n",
       "      <td>LIMA</td>\n",
       "      <td>LIMA</td>\n",
       "      <td>LIMA</td>\n",
       "      <td>AG</td>\n",
       "      <td>22.0</td>\n",
       "      <td>FEMENINO</td>\n",
       "      <td>20201223.0</td>\n",
       "      <td>150101.0</td>\n",
       "      <td>32314110</td>\n",
       "      <td>22.0</td>\n",
       "      <td>(18, 25]</td>\n",
       "      <td>2020</td>\n",
       "    </tr>\n",
       "    <tr>\n",
       "      <th>974127</th>\n",
       "      <td>20220312</td>\n",
       "      <td>LIMA</td>\n",
       "      <td>LIMA</td>\n",
       "      <td>LIMA</td>\n",
       "      <td>AG</td>\n",
       "      <td>22.0</td>\n",
       "      <td>FEMENINO</td>\n",
       "      <td>20201223.0</td>\n",
       "      <td>150101.0</td>\n",
       "      <td>32314110</td>\n",
       "      <td>22.0</td>\n",
       "      <td>(18, 25]</td>\n",
       "      <td>2020</td>\n",
       "    </tr>\n",
       "    <tr>\n",
       "      <th>974143</th>\n",
       "      <td>20220312</td>\n",
       "      <td>LIMA</td>\n",
       "      <td>LIMA</td>\n",
       "      <td>LIMA</td>\n",
       "      <td>AG</td>\n",
       "      <td>22.0</td>\n",
       "      <td>FEMENINO</td>\n",
       "      <td>20201223.0</td>\n",
       "      <td>150101.0</td>\n",
       "      <td>32314110</td>\n",
       "      <td>22.0</td>\n",
       "      <td>(18, 25]</td>\n",
       "      <td>2020</td>\n",
       "    </tr>\n",
       "  </tbody>\n",
       "</table>\n",
       "</div>"
      ],
      "text/plain": [
       "        FECHA_CORTE DEPARTAMENTO PROVINCIA DISTRITO METODODX  EDAD      SEXO  \\\n",
       "974031     20220312         LIMA      LIMA   BREÃ‘A      PCR  22.0  FEMENINO   \n",
       "974032     20220312         LIMA      LIMA     LIMA       AG  22.0  FEMENINO   \n",
       "974033     20220312         LIMA      LIMA     LIMA       AG  23.0  FEMENINO   \n",
       "974034     20220312         LIMA      LIMA     LIMA       AG  23.0  FEMENINO   \n",
       "974123     20220312         LIMA      LIMA     LIMA       AG  23.0  FEMENINO   \n",
       "974124     20220312         LIMA      LIMA     LIMA       AG  23.0  FEMENINO   \n",
       "974125     20220312         LIMA      LIMA     LIMA       AG  22.0  FEMENINO   \n",
       "974126     20220312         LIMA      LIMA     LIMA       AG  22.0  FEMENINO   \n",
       "974127     20220312         LIMA      LIMA     LIMA       AG  22.0  FEMENINO   \n",
       "974143     20220312         LIMA      LIMA     LIMA       AG  22.0  FEMENINO   \n",
       "\n",
       "        FECHA_RESULTADO    UBIGEO  id_persona  EDAD-clip edad_bins  \\\n",
       "974031       20201226.0  150105.0    32314110       22.0  (18, 25]   \n",
       "974032       20210114.0  150101.0    32314110       22.0  (18, 25]   \n",
       "974033       20201223.0  150101.0    32314110       23.0  (18, 25]   \n",
       "974034       20201223.0  150101.0    32314110       23.0  (18, 25]   \n",
       "974123       20201223.0  150101.0    32314110       23.0  (18, 25]   \n",
       "974124       20201223.0  150101.0    32314110       23.0  (18, 25]   \n",
       "974125       20201223.0  150101.0    32314110       22.0  (18, 25]   \n",
       "974126       20201223.0  150101.0    32314110       22.0  (18, 25]   \n",
       "974127       20201223.0  150101.0    32314110       22.0  (18, 25]   \n",
       "974143       20201223.0  150101.0    32314110       22.0  (18, 25]   \n",
       "\n",
       "        AÑO_RESULTADO  \n",
       "974031           2020  \n",
       "974032           2021  \n",
       "974033           2020  \n",
       "974034           2020  \n",
       "974123           2020  \n",
       "974124           2020  \n",
       "974125           2020  \n",
       "974126           2020  \n",
       "974127           2020  \n",
       "974143           2020  "
      ]
     },
     "execution_count": 75,
     "metadata": {},
     "output_type": "execute_result"
    }
   ],
   "source": [
    "df[df['id_persona']==32314110]\n",
    "#el id persona es el ..... si o no?\n"
   ]
  },
  {
   "cell_type": "code",
   "execution_count": 76,
   "metadata": {},
   "outputs": [
    {
     "data": {
      "text/plain": [
       "METODODX\n",
       "AG     443304\n",
       "PCR    277792\n",
       "PR     256047\n",
       "Name: id_persona, dtype: int64"
      ]
     },
     "execution_count": 76,
     "metadata": {},
     "output_type": "execute_result"
    }
   ],
   "source": [
    "df.groupby(by='METODODX')['id_persona'].nunique()\n",
    "#veamos cuantos id personas unicos hay por cada método"
   ]
  },
  {
   "cell_type": "code",
   "execution_count": 77,
   "metadata": {},
   "outputs": [
    {
     "data": {
      "text/plain": [
       "935494"
      ]
     },
     "execution_count": 77,
     "metadata": {},
     "output_type": "execute_result"
    }
   ],
   "source": [
    "df['id_persona'].nunique()"
   ]
  },
  {
   "cell_type": "code",
   "execution_count": 78,
   "metadata": {},
   "outputs": [
    {
     "data": {
      "text/html": [
       "<div>\n",
       "<style scoped>\n",
       "    .dataframe tbody tr th:only-of-type {\n",
       "        vertical-align: middle;\n",
       "    }\n",
       "\n",
       "    .dataframe tbody tr th {\n",
       "        vertical-align: top;\n",
       "    }\n",
       "\n",
       "    .dataframe thead th {\n",
       "        text-align: right;\n",
       "    }\n",
       "</style>\n",
       "<table border=\"1\" class=\"dataframe\">\n",
       "  <thead>\n",
       "    <tr style=\"text-align: right;\">\n",
       "      <th></th>\n",
       "      <th>FECHA_CORTE</th>\n",
       "      <th>DEPARTAMENTO</th>\n",
       "      <th>PROVINCIA</th>\n",
       "      <th>DISTRITO</th>\n",
       "      <th>METODODX</th>\n",
       "      <th>EDAD</th>\n",
       "      <th>SEXO</th>\n",
       "      <th>FECHA_RESULTADO</th>\n",
       "      <th>UBIGEO</th>\n",
       "      <th>id_persona</th>\n",
       "      <th>EDAD-clip</th>\n",
       "      <th>edad_bins</th>\n",
       "      <th>AÑO_RESULTADO</th>\n",
       "    </tr>\n",
       "  </thead>\n",
       "  <tbody>\n",
       "    <tr>\n",
       "      <th>3</th>\n",
       "      <td>20220312</td>\n",
       "      <td>AREQUIPA</td>\n",
       "      <td>AREQUIPA</td>\n",
       "      <td>AREQUIPA</td>\n",
       "      <td>PCR</td>\n",
       "      <td>27.0</td>\n",
       "      <td>MASCULINO</td>\n",
       "      <td>20220120.0</td>\n",
       "      <td>40101.0</td>\n",
       "      <td>24662155</td>\n",
       "      <td>27.0</td>\n",
       "      <td>(25, 35]</td>\n",
       "      <td>2022</td>\n",
       "    </tr>\n",
       "    <tr>\n",
       "      <th>9</th>\n",
       "      <td>20220312</td>\n",
       "      <td>LIMA</td>\n",
       "      <td>LIMA</td>\n",
       "      <td>SANTIAGO DE SURCO</td>\n",
       "      <td>PCR</td>\n",
       "      <td>19.0</td>\n",
       "      <td>FEMENINO</td>\n",
       "      <td>20220213.0</td>\n",
       "      <td>150140.0</td>\n",
       "      <td>24662215</td>\n",
       "      <td>19.0</td>\n",
       "      <td>(18, 25]</td>\n",
       "      <td>2022</td>\n",
       "    </tr>\n",
       "    <tr>\n",
       "      <th>12</th>\n",
       "      <td>20220312</td>\n",
       "      <td>TUMBES</td>\n",
       "      <td>TUMBES</td>\n",
       "      <td>PAMPAS DE HOSPITAL</td>\n",
       "      <td>PCR</td>\n",
       "      <td>15.0</td>\n",
       "      <td>MASCULINO</td>\n",
       "      <td>20220203.0</td>\n",
       "      <td>240104.0</td>\n",
       "      <td>24662248</td>\n",
       "      <td>15.0</td>\n",
       "      <td>(11, 18]</td>\n",
       "      <td>2022</td>\n",
       "    </tr>\n",
       "    <tr>\n",
       "      <th>16</th>\n",
       "      <td>20220312</td>\n",
       "      <td>APURIMAC</td>\n",
       "      <td>ANDAHUAYLAS</td>\n",
       "      <td>ANDAHUAYLAS</td>\n",
       "      <td>PCR</td>\n",
       "      <td>31.0</td>\n",
       "      <td>FEMENINO</td>\n",
       "      <td>20210130.0</td>\n",
       "      <td>30201.0</td>\n",
       "      <td>24662310</td>\n",
       "      <td>31.0</td>\n",
       "      <td>(25, 35]</td>\n",
       "      <td>2021</td>\n",
       "    </tr>\n",
       "    <tr>\n",
       "      <th>19</th>\n",
       "      <td>20220312</td>\n",
       "      <td>LIMA</td>\n",
       "      <td>LIMA</td>\n",
       "      <td>LA VICTORIA</td>\n",
       "      <td>PCR</td>\n",
       "      <td>31.0</td>\n",
       "      <td>FEMENINO</td>\n",
       "      <td>20210320.0</td>\n",
       "      <td>150115.0</td>\n",
       "      <td>24662333</td>\n",
       "      <td>31.0</td>\n",
       "      <td>(25, 35]</td>\n",
       "      <td>2021</td>\n",
       "    </tr>\n",
       "    <tr>\n",
       "      <th>...</th>\n",
       "      <td>...</td>\n",
       "      <td>...</td>\n",
       "      <td>...</td>\n",
       "      <td>...</td>\n",
       "      <td>...</td>\n",
       "      <td>...</td>\n",
       "      <td>...</td>\n",
       "      <td>...</td>\n",
       "      <td>...</td>\n",
       "      <td>...</td>\n",
       "      <td>...</td>\n",
       "      <td>...</td>\n",
       "      <td>...</td>\n",
       "    </tr>\n",
       "    <tr>\n",
       "      <th>1048561</th>\n",
       "      <td>20220312</td>\n",
       "      <td>LIMA</td>\n",
       "      <td>LIMA</td>\n",
       "      <td>CHORRILLOS</td>\n",
       "      <td>PCR</td>\n",
       "      <td>38.0</td>\n",
       "      <td>MASCULINO</td>\n",
       "      <td>20210323.0</td>\n",
       "      <td>150108.0</td>\n",
       "      <td>33325746</td>\n",
       "      <td>38.0</td>\n",
       "      <td>(35, 50]</td>\n",
       "      <td>2021</td>\n",
       "    </tr>\n",
       "    <tr>\n",
       "      <th>1048563</th>\n",
       "      <td>20220312</td>\n",
       "      <td>LIMA</td>\n",
       "      <td>LIMA</td>\n",
       "      <td>VILLA MARIA DEL TRIUNFO</td>\n",
       "      <td>PCR</td>\n",
       "      <td>35.0</td>\n",
       "      <td>MASCULINO</td>\n",
       "      <td>20210315.0</td>\n",
       "      <td>150143.0</td>\n",
       "      <td>33325772</td>\n",
       "      <td>35.0</td>\n",
       "      <td>(25, 35]</td>\n",
       "      <td>2021</td>\n",
       "    </tr>\n",
       "    <tr>\n",
       "      <th>1048566</th>\n",
       "      <td>20220312</td>\n",
       "      <td>LIMA</td>\n",
       "      <td>LIMA</td>\n",
       "      <td>CARABAYLLO</td>\n",
       "      <td>PCR</td>\n",
       "      <td>34.0</td>\n",
       "      <td>MASCULINO</td>\n",
       "      <td>20210218.0</td>\n",
       "      <td>150106.0</td>\n",
       "      <td>33325818</td>\n",
       "      <td>34.0</td>\n",
       "      <td>(25, 35]</td>\n",
       "      <td>2021</td>\n",
       "    </tr>\n",
       "    <tr>\n",
       "      <th>1048570</th>\n",
       "      <td>20220312</td>\n",
       "      <td>UCAYALI</td>\n",
       "      <td>CORONEL PORTILLO</td>\n",
       "      <td>CALLERIA</td>\n",
       "      <td>PCR</td>\n",
       "      <td>35.0</td>\n",
       "      <td>FEMENINO</td>\n",
       "      <td>20220125.0</td>\n",
       "      <td>250101.0</td>\n",
       "      <td>33325863</td>\n",
       "      <td>35.0</td>\n",
       "      <td>(25, 35]</td>\n",
       "      <td>2022</td>\n",
       "    </tr>\n",
       "    <tr>\n",
       "      <th>1048571</th>\n",
       "      <td>20220312</td>\n",
       "      <td>LIMA</td>\n",
       "      <td>LIMA</td>\n",
       "      <td>CARABAYLLO</td>\n",
       "      <td>PCR</td>\n",
       "      <td>36.0</td>\n",
       "      <td>FEMENINO</td>\n",
       "      <td>20210203.0</td>\n",
       "      <td>150106.0</td>\n",
       "      <td>33325872</td>\n",
       "      <td>36.0</td>\n",
       "      <td>(35, 50]</td>\n",
       "      <td>2021</td>\n",
       "    </tr>\n",
       "  </tbody>\n",
       "</table>\n",
       "<p>281392 rows × 13 columns</p>\n",
       "</div>"
      ],
      "text/plain": [
       "         FECHA_CORTE DEPARTAMENTO         PROVINCIA                 DISTRITO  \\\n",
       "3           20220312     AREQUIPA          AREQUIPA                 AREQUIPA   \n",
       "9           20220312         LIMA              LIMA        SANTIAGO DE SURCO   \n",
       "12          20220312       TUMBES            TUMBES       PAMPAS DE HOSPITAL   \n",
       "16          20220312     APURIMAC       ANDAHUAYLAS              ANDAHUAYLAS   \n",
       "19          20220312         LIMA              LIMA              LA VICTORIA   \n",
       "...              ...          ...               ...                      ...   \n",
       "1048561     20220312         LIMA              LIMA               CHORRILLOS   \n",
       "1048563     20220312         LIMA              LIMA  VILLA MARIA DEL TRIUNFO   \n",
       "1048566     20220312         LIMA              LIMA               CARABAYLLO   \n",
       "1048570     20220312      UCAYALI  CORONEL PORTILLO                 CALLERIA   \n",
       "1048571     20220312         LIMA              LIMA               CARABAYLLO   \n",
       "\n",
       "        METODODX  EDAD       SEXO  FECHA_RESULTADO    UBIGEO  id_persona  \\\n",
       "3            PCR  27.0  MASCULINO       20220120.0   40101.0    24662155   \n",
       "9            PCR  19.0   FEMENINO       20220213.0  150140.0    24662215   \n",
       "12           PCR  15.0  MASCULINO       20220203.0  240104.0    24662248   \n",
       "16           PCR  31.0   FEMENINO       20210130.0   30201.0    24662310   \n",
       "19           PCR  31.0   FEMENINO       20210320.0  150115.0    24662333   \n",
       "...          ...   ...        ...              ...       ...         ...   \n",
       "1048561      PCR  38.0  MASCULINO       20210323.0  150108.0    33325746   \n",
       "1048563      PCR  35.0  MASCULINO       20210315.0  150143.0    33325772   \n",
       "1048566      PCR  34.0  MASCULINO       20210218.0  150106.0    33325818   \n",
       "1048570      PCR  35.0   FEMENINO       20220125.0  250101.0    33325863   \n",
       "1048571      PCR  36.0   FEMENINO       20210203.0  150106.0    33325872   \n",
       "\n",
       "         EDAD-clip edad_bins  AÑO_RESULTADO  \n",
       "3             27.0  (25, 35]           2022  \n",
       "9             19.0  (18, 25]           2022  \n",
       "12            15.0  (11, 18]           2022  \n",
       "16            31.0  (25, 35]           2021  \n",
       "19            31.0  (25, 35]           2021  \n",
       "...            ...       ...            ...  \n",
       "1048561       38.0  (35, 50]           2021  \n",
       "1048563       35.0  (25, 35]           2021  \n",
       "1048566       34.0  (25, 35]           2021  \n",
       "1048570       35.0  (25, 35]           2022  \n",
       "1048571       36.0  (35, 50]           2021  \n",
       "\n",
       "[281392 rows x 13 columns]"
      ]
     },
     "execution_count": 78,
     "metadata": {},
     "output_type": "execute_result"
    }
   ],
   "source": [
    "df.query(\"METODODX=='PCR'\")\n",
    "#seleccionas una columna segpun metodo de diagnostico"
   ]
  },
  {
   "cell_type": "code",
   "execution_count": 79,
   "metadata": {},
   "outputs": [
    {
     "data": {
      "text/plain": [
       "AÑO_RESULTADO\n",
       "2020     47957\n",
       "2021    116740\n",
       "2022    114752\n",
       "Name: id_persona, dtype: int64"
      ]
     },
     "execution_count": 79,
     "metadata": {},
     "output_type": "execute_result"
    }
   ],
   "source": [
    "df.query(\"METODODX=='PCR'\").groupby('AÑO_RESULTADO')['id_persona'].nunique()\n",
    "#agrupar por año/resultado solo para los casos de pcr cuando id persona unicos existen"
   ]
  },
  {
   "cell_type": "code",
   "execution_count": null,
   "metadata": {},
   "outputs": [],
   "source": []
  },
  {
   "cell_type": "code",
   "execution_count": 80,
   "metadata": {},
   "outputs": [
    {
     "data": {
      "text/plain": [
       "AÑO_RESULTADO\n",
       "2020    209474\n",
       "2021     46455\n",
       "2022       120\n",
       "Name: id_persona, dtype: int64"
      ]
     },
     "execution_count": 80,
     "metadata": {},
     "output_type": "execute_result"
    }
   ],
   "source": [
    "df.query(\"METODODX=='PR'\").groupby('AÑO_RESULTADO')['id_persona'].nunique()"
   ]
  },
  {
   "cell_type": "code",
   "execution_count": 81,
   "metadata": {},
   "outputs": [
    {
     "data": {
      "text/plain": [
       "AÑO_RESULTADO\n",
       "2020       122\n",
       "2021    178209\n",
       "2022    268881\n",
       "Name: id_persona, dtype: int64"
      ]
     },
     "execution_count": 81,
     "metadata": {},
     "output_type": "execute_result"
    }
   ],
   "source": [
    "df.query(\"METODODX=='AG'\").groupby('AÑO_RESULTADO')['id_persona'].nunique()"
   ]
  },
  {
   "cell_type": "code",
   "execution_count": 84,
   "metadata": {},
   "outputs": [
    {
     "data": {
      "text/html": [
       "<div>\n",
       "<style scoped>\n",
       "    .dataframe tbody tr th:only-of-type {\n",
       "        vertical-align: middle;\n",
       "    }\n",
       "\n",
       "    .dataframe tbody tr th {\n",
       "        vertical-align: top;\n",
       "    }\n",
       "\n",
       "    .dataframe thead th {\n",
       "        text-align: right;\n",
       "    }\n",
       "</style>\n",
       "<table border=\"1\" class=\"dataframe\">\n",
       "  <thead>\n",
       "    <tr style=\"text-align: right;\">\n",
       "      <th></th>\n",
       "      <th>FECHA_CORTE</th>\n",
       "      <th>DEPARTAMENTO</th>\n",
       "      <th>PROVINCIA</th>\n",
       "      <th>DISTRITO</th>\n",
       "      <th>METODODX</th>\n",
       "      <th>EDAD</th>\n",
       "      <th>SEXO</th>\n",
       "      <th>FECHA_RESULTADO</th>\n",
       "      <th>UBIGEO</th>\n",
       "      <th>id_persona</th>\n",
       "      <th>EDAD-clip</th>\n",
       "      <th>edad_bins</th>\n",
       "      <th>AÑO_RESULTADO</th>\n",
       "    </tr>\n",
       "  </thead>\n",
       "  <tbody>\n",
       "    <tr>\n",
       "      <th>3</th>\n",
       "      <td>20220312</td>\n",
       "      <td>AREQUIPA</td>\n",
       "      <td>AREQUIPA</td>\n",
       "      <td>AREQUIPA</td>\n",
       "      <td>PCR</td>\n",
       "      <td>27.0</td>\n",
       "      <td>MASCULINO</td>\n",
       "      <td>20220120.0</td>\n",
       "      <td>40101.0</td>\n",
       "      <td>24662155</td>\n",
       "      <td>27.0</td>\n",
       "      <td>(25, 35]</td>\n",
       "      <td>2022</td>\n",
       "    </tr>\n",
       "    <tr>\n",
       "      <th>9</th>\n",
       "      <td>20220312</td>\n",
       "      <td>LIMA</td>\n",
       "      <td>LIMA</td>\n",
       "      <td>SANTIAGO DE SURCO</td>\n",
       "      <td>PCR</td>\n",
       "      <td>19.0</td>\n",
       "      <td>FEMENINO</td>\n",
       "      <td>20220213.0</td>\n",
       "      <td>150140.0</td>\n",
       "      <td>24662215</td>\n",
       "      <td>19.0</td>\n",
       "      <td>(18, 25]</td>\n",
       "      <td>2022</td>\n",
       "    </tr>\n",
       "    <tr>\n",
       "      <th>12</th>\n",
       "      <td>20220312</td>\n",
       "      <td>TUMBES</td>\n",
       "      <td>TUMBES</td>\n",
       "      <td>PAMPAS DE HOSPITAL</td>\n",
       "      <td>PCR</td>\n",
       "      <td>15.0</td>\n",
       "      <td>MASCULINO</td>\n",
       "      <td>20220203.0</td>\n",
       "      <td>240104.0</td>\n",
       "      <td>24662248</td>\n",
       "      <td>15.0</td>\n",
       "      <td>(11, 18]</td>\n",
       "      <td>2022</td>\n",
       "    </tr>\n",
       "    <tr>\n",
       "      <th>16</th>\n",
       "      <td>20220312</td>\n",
       "      <td>APURIMAC</td>\n",
       "      <td>ANDAHUAYLAS</td>\n",
       "      <td>ANDAHUAYLAS</td>\n",
       "      <td>PCR</td>\n",
       "      <td>31.0</td>\n",
       "      <td>FEMENINO</td>\n",
       "      <td>20210130.0</td>\n",
       "      <td>30201.0</td>\n",
       "      <td>24662310</td>\n",
       "      <td>31.0</td>\n",
       "      <td>(25, 35]</td>\n",
       "      <td>2021</td>\n",
       "    </tr>\n",
       "    <tr>\n",
       "      <th>19</th>\n",
       "      <td>20220312</td>\n",
       "      <td>LIMA</td>\n",
       "      <td>LIMA</td>\n",
       "      <td>LA VICTORIA</td>\n",
       "      <td>PCR</td>\n",
       "      <td>31.0</td>\n",
       "      <td>FEMENINO</td>\n",
       "      <td>20210320.0</td>\n",
       "      <td>150115.0</td>\n",
       "      <td>24662333</td>\n",
       "      <td>31.0</td>\n",
       "      <td>(25, 35]</td>\n",
       "      <td>2021</td>\n",
       "    </tr>\n",
       "  </tbody>\n",
       "</table>\n",
       "</div>"
      ],
      "text/plain": [
       "    FECHA_CORTE DEPARTAMENTO    PROVINCIA            DISTRITO METODODX  EDAD  \\\n",
       "3      20220312     AREQUIPA     AREQUIPA            AREQUIPA      PCR  27.0   \n",
       "9      20220312         LIMA         LIMA   SANTIAGO DE SURCO      PCR  19.0   \n",
       "12     20220312       TUMBES       TUMBES  PAMPAS DE HOSPITAL      PCR  15.0   \n",
       "16     20220312     APURIMAC  ANDAHUAYLAS         ANDAHUAYLAS      PCR  31.0   \n",
       "19     20220312         LIMA         LIMA         LA VICTORIA      PCR  31.0   \n",
       "\n",
       "         SEXO  FECHA_RESULTADO    UBIGEO  id_persona  EDAD-clip edad_bins  \\\n",
       "3   MASCULINO       20220120.0   40101.0    24662155       27.0  (25, 35]   \n",
       "9    FEMENINO       20220213.0  150140.0    24662215       19.0  (18, 25]   \n",
       "12  MASCULINO       20220203.0  240104.0    24662248       15.0  (11, 18]   \n",
       "16   FEMENINO       20210130.0   30201.0    24662310       31.0  (25, 35]   \n",
       "19   FEMENINO       20210320.0  150115.0    24662333       31.0  (25, 35]   \n",
       "\n",
       "    AÑO_RESULTADO  \n",
       "3            2022  \n",
       "9            2022  \n",
       "12           2022  \n",
       "16           2021  \n",
       "19           2021  "
      ]
     },
     "execution_count": 84,
     "metadata": {},
     "output_type": "execute_result"
    }
   ],
   "source": [
    "df.query(\"METODODX=='PCR'\").head()"
   ]
  },
  {
   "cell_type": "code",
   "execution_count": 85,
   "metadata": {},
   "outputs": [
    {
     "data": {
      "text/html": [
       "<div>\n",
       "<style scoped>\n",
       "    .dataframe tbody tr th:only-of-type {\n",
       "        vertical-align: middle;\n",
       "    }\n",
       "\n",
       "    .dataframe tbody tr th {\n",
       "        vertical-align: top;\n",
       "    }\n",
       "\n",
       "    .dataframe thead th {\n",
       "        text-align: right;\n",
       "    }\n",
       "</style>\n",
       "<table border=\"1\" class=\"dataframe\">\n",
       "  <thead>\n",
       "    <tr style=\"text-align: right;\">\n",
       "      <th></th>\n",
       "      <th>FECHA_CORTE</th>\n",
       "      <th>DEPARTAMENTO</th>\n",
       "      <th>PROVINCIA</th>\n",
       "      <th>DISTRITO</th>\n",
       "      <th>METODODX</th>\n",
       "      <th>EDAD</th>\n",
       "      <th>SEXO</th>\n",
       "      <th>FECHA_RESULTADO</th>\n",
       "      <th>UBIGEO</th>\n",
       "      <th>id_persona</th>\n",
       "      <th>EDAD-clip</th>\n",
       "      <th>edad_bins</th>\n",
       "      <th>AÑO_RESULTADO</th>\n",
       "    </tr>\n",
       "  </thead>\n",
       "  <tbody>\n",
       "    <tr>\n",
       "      <th>0</th>\n",
       "      <td>20220312</td>\n",
       "      <td>AREQUIPA</td>\n",
       "      <td>AREQUIPA</td>\n",
       "      <td>AREQUIPA</td>\n",
       "      <td>PCR</td>\n",
       "      <td>27.0</td>\n",
       "      <td>MASCULINO</td>\n",
       "      <td>20220120.0</td>\n",
       "      <td>40101.0</td>\n",
       "      <td>24662155</td>\n",
       "      <td>27.0</td>\n",
       "      <td>(25, 35]</td>\n",
       "      <td>2022</td>\n",
       "    </tr>\n",
       "    <tr>\n",
       "      <th>1</th>\n",
       "      <td>20220312</td>\n",
       "      <td>LIMA</td>\n",
       "      <td>LIMA</td>\n",
       "      <td>SANTIAGO DE SURCO</td>\n",
       "      <td>PCR</td>\n",
       "      <td>19.0</td>\n",
       "      <td>FEMENINO</td>\n",
       "      <td>20220213.0</td>\n",
       "      <td>150140.0</td>\n",
       "      <td>24662215</td>\n",
       "      <td>19.0</td>\n",
       "      <td>(18, 25]</td>\n",
       "      <td>2022</td>\n",
       "    </tr>\n",
       "    <tr>\n",
       "      <th>2</th>\n",
       "      <td>20220312</td>\n",
       "      <td>TUMBES</td>\n",
       "      <td>TUMBES</td>\n",
       "      <td>PAMPAS DE HOSPITAL</td>\n",
       "      <td>PCR</td>\n",
       "      <td>15.0</td>\n",
       "      <td>MASCULINO</td>\n",
       "      <td>20220203.0</td>\n",
       "      <td>240104.0</td>\n",
       "      <td>24662248</td>\n",
       "      <td>15.0</td>\n",
       "      <td>(11, 18]</td>\n",
       "      <td>2022</td>\n",
       "    </tr>\n",
       "    <tr>\n",
       "      <th>3</th>\n",
       "      <td>20220312</td>\n",
       "      <td>APURIMAC</td>\n",
       "      <td>ANDAHUAYLAS</td>\n",
       "      <td>ANDAHUAYLAS</td>\n",
       "      <td>PCR</td>\n",
       "      <td>31.0</td>\n",
       "      <td>FEMENINO</td>\n",
       "      <td>20210130.0</td>\n",
       "      <td>30201.0</td>\n",
       "      <td>24662310</td>\n",
       "      <td>31.0</td>\n",
       "      <td>(25, 35]</td>\n",
       "      <td>2021</td>\n",
       "    </tr>\n",
       "    <tr>\n",
       "      <th>4</th>\n",
       "      <td>20220312</td>\n",
       "      <td>LIMA</td>\n",
       "      <td>LIMA</td>\n",
       "      <td>LA VICTORIA</td>\n",
       "      <td>PCR</td>\n",
       "      <td>31.0</td>\n",
       "      <td>FEMENINO</td>\n",
       "      <td>20210320.0</td>\n",
       "      <td>150115.0</td>\n",
       "      <td>24662333</td>\n",
       "      <td>31.0</td>\n",
       "      <td>(25, 35]</td>\n",
       "      <td>2021</td>\n",
       "    </tr>\n",
       "  </tbody>\n",
       "</table>\n",
       "</div>"
      ],
      "text/plain": [
       "   FECHA_CORTE DEPARTAMENTO    PROVINCIA            DISTRITO METODODX  EDAD  \\\n",
       "0     20220312     AREQUIPA     AREQUIPA            AREQUIPA      PCR  27.0   \n",
       "1     20220312         LIMA         LIMA   SANTIAGO DE SURCO      PCR  19.0   \n",
       "2     20220312       TUMBES       TUMBES  PAMPAS DE HOSPITAL      PCR  15.0   \n",
       "3     20220312     APURIMAC  ANDAHUAYLAS         ANDAHUAYLAS      PCR  31.0   \n",
       "4     20220312         LIMA         LIMA         LA VICTORIA      PCR  31.0   \n",
       "\n",
       "        SEXO  FECHA_RESULTADO    UBIGEO  id_persona  EDAD-clip edad_bins  \\\n",
       "0  MASCULINO       20220120.0   40101.0    24662155       27.0  (25, 35]   \n",
       "1   FEMENINO       20220213.0  150140.0    24662215       19.0  (18, 25]   \n",
       "2  MASCULINO       20220203.0  240104.0    24662248       15.0  (11, 18]   \n",
       "3   FEMENINO       20210130.0   30201.0    24662310       31.0  (25, 35]   \n",
       "4   FEMENINO       20210320.0  150115.0    24662333       31.0  (25, 35]   \n",
       "\n",
       "   AÑO_RESULTADO  \n",
       "0           2022  \n",
       "1           2022  \n",
       "2           2022  \n",
       "3           2021  \n",
       "4           2021  "
      ]
     },
     "execution_count": 85,
     "metadata": {},
     "output_type": "execute_result"
    }
   ],
   "source": [
    "df.query(\"METODODX=='PCR'\").reset_index(drop=True).head()"
   ]
  },
  {
   "cell_type": "code",
   "execution_count": 89,
   "metadata": {},
   "outputs": [
    {
     "data": {
      "text/html": [
       "<div>\n",
       "<style scoped>\n",
       "    .dataframe tbody tr th:only-of-type {\n",
       "        vertical-align: middle;\n",
       "    }\n",
       "\n",
       "    .dataframe tbody tr th {\n",
       "        vertical-align: top;\n",
       "    }\n",
       "\n",
       "    .dataframe thead th {\n",
       "        text-align: right;\n",
       "    }\n",
       "</style>\n",
       "<table border=\"1\" class=\"dataframe\">\n",
       "  <thead>\n",
       "    <tr style=\"text-align: right;\">\n",
       "      <th></th>\n",
       "      <th>AÑO_RESULTADO</th>\n",
       "      <th>id_persona</th>\n",
       "    </tr>\n",
       "  </thead>\n",
       "  <tbody>\n",
       "    <tr>\n",
       "      <th>0</th>\n",
       "      <td>2020</td>\n",
       "      <td>47957</td>\n",
       "    </tr>\n",
       "    <tr>\n",
       "      <th>1</th>\n",
       "      <td>2021</td>\n",
       "      <td>116740</td>\n",
       "    </tr>\n",
       "    <tr>\n",
       "      <th>2</th>\n",
       "      <td>2022</td>\n",
       "      <td>114752</td>\n",
       "    </tr>\n",
       "  </tbody>\n",
       "</table>\n",
       "</div>"
      ],
      "text/plain": [
       "   AÑO_RESULTADO  id_persona\n",
       "0           2020       47957\n",
       "1           2021      116740\n",
       "2           2022      114752"
      ]
     },
     "execution_count": 89,
     "metadata": {},
     "output_type": "execute_result"
    }
   ],
   "source": [
    "casos_pcr.reset_index()"
   ]
  },
  {
   "cell_type": "code",
   "execution_count": 99,
   "metadata": {},
   "outputs": [],
   "source": [
    "casos_pcr= df.query(\"METODODX=='PCR'\").reset_index(drop=True).groupby('AÑO_RESULTADO')['id_persona'].nunique().reset_index()\n",
    "#cuando hacemos un query generalmente el indice se va a quedar según los casos de pcr\n",
    "# con el reset index se cambia el indice\n",
    "#al final colocamos de nuevo un reset index para tenerlo en un cuadro de dataframe"
   ]
  },
  {
   "cell_type": "code",
   "execution_count": 100,
   "metadata": {},
   "outputs": [],
   "source": [
    "casos_pcr= casos_pcr.rename(columns={'id_persona':'id_persona_nunique'})\n",
    "#al dataframe le hacemos un rename de las columnas, le pasamos un diccionario"
   ]
  },
  {
   "cell_type": "code",
   "execution_count": 101,
   "metadata": {},
   "outputs": [
    {
     "data": {
      "image/png": "[encoded data removed]",
      "text/plain": [
       "<Figure size 360x360 with 1 Axes>"
      ]
     },
     "metadata": {
      "needs_background": "light"
     },
     "output_type": "display_data"
    }
   ],
   "source": [
    "g = sns.catplot(\n",
    "    data=casos_pcr, kind=\"bar\",\n",
    "    x=\"AÑO_RESULTADO\", y=\"id_persona_nunique\",\n",
    ")\n",
    "g.set_xticklabels(rotation=90)\n",
    "plt.show()"
   ]
  },
  {
   "cell_type": "code",
   "execution_count": 102,
   "metadata": {},
   "outputs": [],
   "source": [
    "casos_pcr_sexo= df.query(\"METODODX=='PCR'\").reset_index(drop=True).groupby(['AÑO_RESULTADO','SEXO'])['id_persona'].nunique().reset_index()\n",
    "#dentro del metodo del groupby se utiliza una lista pra tener el agrupador por mas de una variable"
   ]
  },
  {
   "cell_type": "code",
   "execution_count": 103,
   "metadata": {},
   "outputs": [],
   "source": [
    "casos_pcr_sexo= casos_pcr_sexo.rename(columns={'id_persona':'id_persona_nunique'})"
   ]
  },
  {
   "cell_type": "code",
   "execution_count": 104,
   "metadata": {},
   "outputs": [
    {
     "data": {
      "text/html": [
       "<div>\n",
       "<style scoped>\n",
       "    .dataframe tbody tr th:only-of-type {\n",
       "        vertical-align: middle;\n",
       "    }\n",
       "\n",
       "    .dataframe tbody tr th {\n",
       "        vertical-align: top;\n",
       "    }\n",
       "\n",
       "    .dataframe thead th {\n",
       "        text-align: right;\n",
       "    }\n",
       "</style>\n",
       "<table border=\"1\" class=\"dataframe\">\n",
       "  <thead>\n",
       "    <tr style=\"text-align: right;\">\n",
       "      <th></th>\n",
       "      <th>AÑO_RESULTADO</th>\n",
       "      <th>SEXO</th>\n",
       "      <th>id_persona_nunique</th>\n",
       "    </tr>\n",
       "  </thead>\n",
       "  <tbody>\n",
       "    <tr>\n",
       "      <th>0</th>\n",
       "      <td>2020</td>\n",
       "      <td>FEMENINO</td>\n",
       "      <td>22054</td>\n",
       "    </tr>\n",
       "    <tr>\n",
       "      <th>1</th>\n",
       "      <td>2020</td>\n",
       "      <td>MASCULINO</td>\n",
       "      <td>25904</td>\n",
       "    </tr>\n",
       "    <tr>\n",
       "      <th>2</th>\n",
       "      <td>2021</td>\n",
       "      <td>FEMENINO</td>\n",
       "      <td>56547</td>\n",
       "    </tr>\n",
       "    <tr>\n",
       "      <th>3</th>\n",
       "      <td>2021</td>\n",
       "      <td>MASCULINO</td>\n",
       "      <td>60197</td>\n",
       "    </tr>\n",
       "    <tr>\n",
       "      <th>4</th>\n",
       "      <td>2022</td>\n",
       "      <td>FEMENINO</td>\n",
       "      <td>59004</td>\n",
       "    </tr>\n",
       "    <tr>\n",
       "      <th>5</th>\n",
       "      <td>2022</td>\n",
       "      <td>MASCULINO</td>\n",
       "      <td>55749</td>\n",
       "    </tr>\n",
       "  </tbody>\n",
       "</table>\n",
       "</div>"
      ],
      "text/plain": [
       "   AÑO_RESULTADO       SEXO  id_persona_nunique\n",
       "0           2020   FEMENINO               22054\n",
       "1           2020  MASCULINO               25904\n",
       "2           2021   FEMENINO               56547\n",
       "3           2021  MASCULINO               60197\n",
       "4           2022   FEMENINO               59004\n",
       "5           2022  MASCULINO               55749"
      ]
     },
     "execution_count": 104,
     "metadata": {},
     "output_type": "execute_result"
    }
   ],
   "source": [
    "casos_pcr_sexo"
   ]
  },
  {
   "cell_type": "code",
   "execution_count": 105,
   "metadata": {},
   "outputs": [
    {
     "data": {
      "image/png": "[encoded data removed]",
      "text/plain": [
       "<Figure size 455.625x360 with 1 Axes>"
      ]
     },
     "metadata": {
      "needs_background": "light"
     },
     "output_type": "display_data"
    }
   ],
   "source": [
    "g = sns.catplot(\n",
    "    data=casos_pcr_sexo, kind=\"bar\",\n",
    "    x=\"AÑO_RESULTADO\", y=\"id_persona_nunique\",hue=\"SEXO\",\n",
    ")\n",
    "g.set_xticklabels(rotation=90)\n",
    "plt.show()"
   ]
  },
  {
   "cell_type": "code",
   "execution_count": null,
   "metadata": {},
   "outputs": [],
   "source": []
  },
  {
   "cell_type": "code",
   "execution_count": 106,
   "metadata": {},
   "outputs": [],
   "source": [
    "#Empezaremos con la libreria geopandas, para eso primero la importamos\n",
    "import geopandas as gpd "
   ]
  },
  {
   "cell_type": "code",
   "execution_count": 124,
   "metadata": {},
   "outputs": [],
   "source": [
    "geo_deps = gpd.read_file('LIMITE_DEPARTAMENTAL (1).zip')\n",
    "geo_provs = gpd.read_file('LIMITE_PROVINCIAL.zip')\n",
    "geo_dists = gpd.read_file('LIMITE_DISTRITAL.zip',encoding='latin1')"
   ]
  },
  {
   "cell_type": "code",
   "execution_count": 125,
   "metadata": {},
   "outputs": [],
   "source": [
    "geo_dist_lima=geo_dists.query(\"NOMBDEP=='LIMA'\").reset_index(drop=True)"
   ]
  },
  {
   "cell_type": "code",
   "execution_count": 126,
   "metadata": {},
   "outputs": [
    {
     "data": {
      "text/plain": [
       "<AxesSubplot:>"
      ]
     },
     "execution_count": 126,
     "metadata": {},
     "output_type": "execute_result"
    },
    {
     "data": {
      "image/png": "[encoded data removed]",
      "text/plain": [
       "<Figure size 1080x360 with 4 Axes>"
      ]
     },
     "metadata": {
      "needs_background": "light"
     },
     "output_type": "display_data"
    }
   ],
   "source": [
    "fig, (ax1, ax2, ax3,ax4) = plt.subplots(nrows=1, ncols=4,\n",
    "                                    figsize=(15, 5))\n",
    "\n",
    "geo_deps.plot(ax=ax1)\n",
    "geo_provs.plot(linewidth=0.5, ax=ax2)\n",
    "geo_dists.plot(linewidth=0.1, ax=ax3)\n",
    "geo_dist_lima.plot(linewidth=0.5, ax=ax4)"
   ]
  },
  {
   "cell_type": "code",
   "execution_count": 109,
   "metadata": {},
   "outputs": [],
   "source": [
    "df_PCR= df.query(\"METODODX=='PCR'\").reset_index(drop=True)\n",
    "#nombrar con el query según método, el query me filtra solo los casos pcr"
   ]
  },
  {
   "cell_type": "code",
   "execution_count": 45,
   "metadata": {},
   "outputs": [],
   "source": [
    "#ESTO ERA PARA VOLVERLO STRING\n",
    "df_PCR['UBIGEO'] = df_PCR['UBIGEO'].astype(str)"
   ]
  },
  {
   "cell_type": "code",
   "execution_count": 51,
   "metadata": {},
   "outputs": [],
   "source": [
    "df['DEPARTAMENTO'] = df['DEPARTAMENTO'].astype(str)"
   ]
  },
  {
   "cell_type": "code",
   "execution_count": 110,
   "metadata": {},
   "outputs": [],
   "source": [
    "# VALIDAMOS QUE LOS NOMBRES DE DEPARTAMENTOS\n",
    "# EN LOS DOS DATASETS SEAN IGUALES\n",
    "df_unique_dep = df_PCR['DEPARTAMENTO'].unique()\n",
    "df_unique_dep.sort()\n",
    "\n",
    "gdf_unique_dep = geo_deps['NOMBDEP'].unique()\n",
    "gdf_unique_dep.sort()\n",
    "\n",
    "#(df_unique_dep == gdf_unique_dep).all() # True"
   ]
  },
  {
   "cell_type": "code",
   "execution_count": 111,
   "metadata": {},
   "outputs": [
    {
     "data": {
      "text/plain": [
       "True"
      ]
     },
     "execution_count": 111,
     "metadata": {},
     "output_type": "execute_result"
    }
   ],
   "source": [
    "(df_unique_dep == gdf_unique_dep).all() # True"
   ]
  },
  {
   "cell_type": "code",
   "execution_count": 112,
   "metadata": {},
   "outputs": [
    {
     "data": {
      "text/html": [
       "<div>\n",
       "<style scoped>\n",
       "    .dataframe tbody tr th:only-of-type {\n",
       "        vertical-align: middle;\n",
       "    }\n",
       "\n",
       "    .dataframe tbody tr th {\n",
       "        vertical-align: top;\n",
       "    }\n",
       "\n",
       "    .dataframe thead th {\n",
       "        text-align: right;\n",
       "    }\n",
       "</style>\n",
       "<table border=\"1\" class=\"dataframe\">\n",
       "  <thead>\n",
       "    <tr style=\"text-align: right;\">\n",
       "      <th></th>\n",
       "      <th>index</th>\n",
       "      <th>DEPARTAMENTO</th>\n",
       "    </tr>\n",
       "  </thead>\n",
       "  <tbody>\n",
       "    <tr>\n",
       "      <th>0</th>\n",
       "      <td>LIMA</td>\n",
       "      <td>158491</td>\n",
       "    </tr>\n",
       "    <tr>\n",
       "      <th>1</th>\n",
       "      <td>CALLAO</td>\n",
       "      <td>15927</td>\n",
       "    </tr>\n",
       "    <tr>\n",
       "      <th>2</th>\n",
       "      <td>AREQUIPA</td>\n",
       "      <td>15856</td>\n",
       "    </tr>\n",
       "    <tr>\n",
       "      <th>3</th>\n",
       "      <td>CAJAMARCA</td>\n",
       "      <td>9826</td>\n",
       "    </tr>\n",
       "    <tr>\n",
       "      <th>4</th>\n",
       "      <td>LA LIBERTAD</td>\n",
       "      <td>8500</td>\n",
       "    </tr>\n",
       "  </tbody>\n",
       "</table>\n",
       "</div>"
      ],
      "text/plain": [
       "         index  DEPARTAMENTO\n",
       "0         LIMA        158491\n",
       "1       CALLAO         15927\n",
       "2     AREQUIPA         15856\n",
       "3    CAJAMARCA          9826\n",
       "4  LA LIBERTAD          8500"
      ]
     },
     "execution_count": 112,
     "metadata": {},
     "output_type": "execute_result"
    }
   ],
   "source": [
    "# Contamos la cantidad de casos positivos por departamento\n",
    "conteo_dept = df_PCR['DEPARTAMENTO'].value_counts()\n",
    "conteo_dept = conteo_dept.reset_index()\n",
    "conteo_dept.head()"
   ]
  },
  {
   "cell_type": "code",
   "execution_count": 113,
   "metadata": {},
   "outputs": [],
   "source": [
    "# Unimos los conteos utilizando los nombres de departamentos\n",
    "geo_conteo_dept = pd.merge(left=geo_deps, right=conteo_dept, \n",
    "                             left_on=\"NOMBDEP\", right_on='index')"
   ]
  },
  {
   "cell_type": "code",
   "execution_count": 114,
   "metadata": {},
   "outputs": [
    {
     "data": {
      "text/plain": [
       "<AxesSubplot:>"
      ]
     },
     "execution_count": 114,
     "metadata": {},
     "output_type": "execute_result"
    },
    {
     "data": {
      "image/png": "[encoded data removed]",
      "text/plain": [
       "<Figure size 432x288 with 2 Axes>"
      ]
     },
     "metadata": {
      "needs_background": "light"
     },
     "output_type": "display_data"
    }
   ],
   "source": [
    "# Mapa de calor de # de casos positivos por departamento\n",
    "geo_conteo_dept.plot(\"DEPARTAMENTO\", cmap='viridis',\n",
    "                       legend=True)"
   ]
  }
 ],
 "metadata": {
  "interpreter": {
   "hash": "655b2e2a60020c99c51ab13e55cbf9e51c4b2ffeb59b38b2e70e7a54f25921f7"
  },
  "kernelspec": {
   "display_name": "Python 3.10.2 64-bit (windows store)",
   "language": "python",
   "name": "python3"
  },
  "language_info": {
   "codemirror_mode": {
    "name": "ipython",
    "version": 3
   },
   "file_extension": ".py",
   "mimetype": "text/x-python",
   "name": "python",
   "nbconvert_exporter": "python",
   "pygments_lexer": "ipython3",
   "version": "3.10.4"
  },
  "orig_nbformat": 4
 },
 "nbformat": 4,
 "nbformat_minor": 2
}
