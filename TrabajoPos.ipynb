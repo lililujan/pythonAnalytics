{
 "cells": [
  {
   "cell_type": "code",
   "execution_count": 1,
   "metadata": {},
   "outputs": [],
   "source": [
    "import datetime # Tipo de dato para fechas y horas\n",
    "import pandas as pd # Manejo de datos tabulados\n",
    "import numpy as np # Algebra Lineal y operaciones matematicas\n",
    "import matplotlib.pyplot as plt # Graficos de datos\n",
    "import seaborn as sns # Graficos estadisticos"
   ]
  },
  {
   "cell_type": "code",
   "execution_count": 2,
   "metadata": {},
   "outputs": [
    {
     "data": {
      "text/html": [
       "<div>\n",
       "<style scoped>\n",
       "    .dataframe tbody tr th:only-of-type {\n",
       "        vertical-align: middle;\n",
       "    }\n",
       "\n",
       "    .dataframe tbody tr th {\n",
       "        vertical-align: top;\n",
       "    }\n",
       "\n",
       "    .dataframe thead th {\n",
       "        text-align: right;\n",
       "    }\n",
       "</style>\n",
       "<table border=\"1\" class=\"dataframe\">\n",
       "  <thead>\n",
       "    <tr style=\"text-align: right;\">\n",
       "      <th></th>\n",
       "      <th>FECHA_CORTE</th>\n",
       "      <th>DEPARTAMENTO</th>\n",
       "      <th>PROVINCIA</th>\n",
       "      <th>DISTRITO</th>\n",
       "      <th>METODODX</th>\n",
       "      <th>EDAD</th>\n",
       "      <th>SEXO</th>\n",
       "      <th>FECHA_RESULTADO</th>\n",
       "      <th>UBIGEO</th>\n",
       "      <th>id_persona</th>\n",
       "    </tr>\n",
       "  </thead>\n",
       "  <tbody>\n",
       "    <tr>\n",
       "      <th>0</th>\n",
       "      <td>20220312</td>\n",
       "      <td>CALLAO</td>\n",
       "      <td>CALLAO</td>\n",
       "      <td>CALLAO</td>\n",
       "      <td>PR</td>\n",
       "      <td>25.0</td>\n",
       "      <td>MASCULINO</td>\n",
       "      <td>20200619.0</td>\n",
       "      <td>70101.0</td>\n",
       "      <td>24662494</td>\n",
       "    </tr>\n",
       "    <tr>\n",
       "      <th>1</th>\n",
       "      <td>20220312</td>\n",
       "      <td>LIMA</td>\n",
       "      <td>LIMA</td>\n",
       "      <td>CHORRILLOS</td>\n",
       "      <td>PR</td>\n",
       "      <td>37.0</td>\n",
       "      <td>FEMENINO</td>\n",
       "      <td>20200912.0</td>\n",
       "      <td>150108.0</td>\n",
       "      <td>24662689</td>\n",
       "    </tr>\n",
       "    <tr>\n",
       "      <th>2</th>\n",
       "      <td>20220312</td>\n",
       "      <td>LIMA</td>\n",
       "      <td>LIMA</td>\n",
       "      <td>SAN MARTIN DE PORRES</td>\n",
       "      <td>PR</td>\n",
       "      <td>25.0</td>\n",
       "      <td>MASCULINO</td>\n",
       "      <td>20201217.0</td>\n",
       "      <td>150135.0</td>\n",
       "      <td>24662153</td>\n",
       "    </tr>\n",
       "    <tr>\n",
       "      <th>3</th>\n",
       "      <td>20220312</td>\n",
       "      <td>AREQUIPA</td>\n",
       "      <td>AREQUIPA</td>\n",
       "      <td>AREQUIPA</td>\n",
       "      <td>PCR</td>\n",
       "      <td>27.0</td>\n",
       "      <td>MASCULINO</td>\n",
       "      <td>20220120.0</td>\n",
       "      <td>40101.0</td>\n",
       "      <td>24662155</td>\n",
       "    </tr>\n",
       "    <tr>\n",
       "      <th>4</th>\n",
       "      <td>20220312</td>\n",
       "      <td>ICA</td>\n",
       "      <td>PISCO</td>\n",
       "      <td>PISCO</td>\n",
       "      <td>PR</td>\n",
       "      <td>20.0</td>\n",
       "      <td>FEMENINO</td>\n",
       "      <td>20200822.0</td>\n",
       "      <td>110501.0</td>\n",
       "      <td>24662175</td>\n",
       "    </tr>\n",
       "    <tr>\n",
       "      <th>...</th>\n",
       "      <td>...</td>\n",
       "      <td>...</td>\n",
       "      <td>...</td>\n",
       "      <td>...</td>\n",
       "      <td>...</td>\n",
       "      <td>...</td>\n",
       "      <td>...</td>\n",
       "      <td>...</td>\n",
       "      <td>...</td>\n",
       "      <td>...</td>\n",
       "    </tr>\n",
       "    <tr>\n",
       "      <th>1048570</th>\n",
       "      <td>20220312</td>\n",
       "      <td>UCAYALI</td>\n",
       "      <td>CORONEL PORTILLO</td>\n",
       "      <td>CALLERIA</td>\n",
       "      <td>PCR</td>\n",
       "      <td>35.0</td>\n",
       "      <td>FEMENINO</td>\n",
       "      <td>20220125.0</td>\n",
       "      <td>250101.0</td>\n",
       "      <td>33325863</td>\n",
       "    </tr>\n",
       "    <tr>\n",
       "      <th>1048571</th>\n",
       "      <td>20220312</td>\n",
       "      <td>LIMA</td>\n",
       "      <td>LIMA</td>\n",
       "      <td>CARABAYLLO</td>\n",
       "      <td>PCR</td>\n",
       "      <td>36.0</td>\n",
       "      <td>FEMENINO</td>\n",
       "      <td>20210203.0</td>\n",
       "      <td>150106.0</td>\n",
       "      <td>33325872</td>\n",
       "    </tr>\n",
       "    <tr>\n",
       "      <th>1048572</th>\n",
       "      <td>20220312</td>\n",
       "      <td>CAJAMARCA</td>\n",
       "      <td>SAN IGNACIO</td>\n",
       "      <td>LA COIPA</td>\n",
       "      <td>PR</td>\n",
       "      <td>45.0</td>\n",
       "      <td>FEMENINO</td>\n",
       "      <td>20200819.0</td>\n",
       "      <td>60904.0</td>\n",
       "      <td>33325874</td>\n",
       "    </tr>\n",
       "    <tr>\n",
       "      <th>1048573</th>\n",
       "      <td>20220312</td>\n",
       "      <td>LIMA</td>\n",
       "      <td>LIMA</td>\n",
       "      <td>SAN MARTIN DE PORRES</td>\n",
       "      <td>AG</td>\n",
       "      <td>6.0</td>\n",
       "      <td>MASCULINO</td>\n",
       "      <td>20220120.0</td>\n",
       "      <td>150135.0</td>\n",
       "      <td>33325882</td>\n",
       "    </tr>\n",
       "    <tr>\n",
       "      <th>1048574</th>\n",
       "      <td>20220312</td>\n",
       "      <td>CALLAO</td>\n",
       "      <td>CALLAO</td>\n",
       "      <td>VENTANILLA</td>\n",
       "      <td>AG</td>\n",
       "      <td>6.0</td>\n",
       "      <td>FEMENINO</td>\n",
       "      <td>20220105.0</td>\n",
       "      <td>70106.0</td>\n",
       "      <td>33325939</td>\n",
       "    </tr>\n",
       "  </tbody>\n",
       "</table>\n",
       "<p>1048575 rows × 10 columns</p>\n",
       "</div>"
      ],
      "text/plain": [
       "         FECHA_CORTE DEPARTAMENTO         PROVINCIA              DISTRITO  \\\n",
       "0           20220312       CALLAO            CALLAO                CALLAO   \n",
       "1           20220312         LIMA              LIMA            CHORRILLOS   \n",
       "2           20220312         LIMA              LIMA  SAN MARTIN DE PORRES   \n",
       "3           20220312     AREQUIPA          AREQUIPA              AREQUIPA   \n",
       "4           20220312          ICA             PISCO                 PISCO   \n",
       "...              ...          ...               ...                   ...   \n",
       "1048570     20220312      UCAYALI  CORONEL PORTILLO              CALLERIA   \n",
       "1048571     20220312         LIMA              LIMA            CARABAYLLO   \n",
       "1048572     20220312    CAJAMARCA       SAN IGNACIO              LA COIPA   \n",
       "1048573     20220312         LIMA              LIMA  SAN MARTIN DE PORRES   \n",
       "1048574     20220312       CALLAO            CALLAO            VENTANILLA   \n",
       "\n",
       "        METODODX  EDAD       SEXO  FECHA_RESULTADO    UBIGEO  id_persona  \n",
       "0             PR  25.0  MASCULINO       20200619.0   70101.0    24662494  \n",
       "1             PR  37.0   FEMENINO       20200912.0  150108.0    24662689  \n",
       "2             PR  25.0  MASCULINO       20201217.0  150135.0    24662153  \n",
       "3            PCR  27.0  MASCULINO       20220120.0   40101.0    24662155  \n",
       "4             PR  20.0   FEMENINO       20200822.0  110501.0    24662175  \n",
       "...          ...   ...        ...              ...       ...         ...  \n",
       "1048570      PCR  35.0   FEMENINO       20220125.0  250101.0    33325863  \n",
       "1048571      PCR  36.0   FEMENINO       20210203.0  150106.0    33325872  \n",
       "1048572       PR  45.0   FEMENINO       20200819.0   60904.0    33325874  \n",
       "1048573       AG   6.0  MASCULINO       20220120.0  150135.0    33325882  \n",
       "1048574       AG   6.0   FEMENINO       20220105.0   70106.0    33325939  \n",
       "\n",
       "[1048575 rows x 10 columns]"
      ]
     },
     "execution_count": 2,
     "metadata": {},
     "output_type": "execute_result"
    }
   ],
   "source": [
    "df = pd.read_excel(\"positivos_covid.xlsx\")\n",
    "df"
   ]
  },
  {
   "cell_type": "code",
   "execution_count": 3,
   "metadata": {},
   "outputs": [
    {
     "data": {
      "text/plain": [
       "38352"
      ]
     },
     "execution_count": 3,
     "metadata": {},
     "output_type": "execute_result"
    }
   ],
   "source": [
    "df['EDAD'].argmax()\n",
    "#numero de fila donde esta el valor maximo de la variable edad"
   ]
  },
  {
   "cell_type": "code",
   "execution_count": 4,
   "metadata": {},
   "outputs": [
    {
     "data": {
      "text/plain": [
       "FECHA_CORTE          20220312\n",
       "DEPARTAMENTO             LIMA\n",
       "PROVINCIA                LIMA\n",
       "DISTRITO                 LIMA\n",
       "METODODX                  PCR\n",
       "EDAD                   2021.0\n",
       "SEXO                 FEMENINO\n",
       "FECHA_RESULTADO    20220215.0\n",
       "UBIGEO               150101.0\n",
       "id_persona           25870101\n",
       "Name: 38352, dtype: object"
      ]
     },
     "execution_count": 4,
     "metadata": {},
     "output_type": "execute_result"
    }
   ],
   "source": [
    "df.loc[38352] #mostrar los datos de la fila"
   ]
  },
  {
   "cell_type": "code",
   "execution_count": 5,
   "metadata": {},
   "outputs": [
    {
     "data": {
      "text/plain": [
       "FECHA_CORTE          20220312\n",
       "DEPARTAMENTO             LIMA\n",
       "PROVINCIA                LIMA\n",
       "DISTRITO           LURIGANCHO\n",
       "METODODX                   PR\n",
       "EDAD                     78.0\n",
       "SEXO                MASCULINO\n",
       "FECHA_RESULTADO    20210116.0\n",
       "UBIGEO               150118.0\n",
       "id_persona           25175744\n",
       "Name: 38353, dtype: object"
      ]
     },
     "execution_count": 5,
     "metadata": {},
     "output_type": "execute_result"
    }
   ],
   "source": [
    "df.loc[38353]"
   ]
  },
  {
   "cell_type": "code",
   "execution_count": 6,
   "metadata": {},
   "outputs": [
    {
     "data": {
      "text/plain": [
       "<AxesSubplot:>"
      ]
     },
     "execution_count": 6,
     "metadata": {},
     "output_type": "execute_result"
    },
    {
     "data": {
      "image/png": "[encoded data removed]",
      "text/plain": [
       "<Figure size 432x288 with 1 Axes>"
      ]
     },
     "metadata": {
      "needs_background": "light"
     },
     "output_type": "display_data"
    }
   ],
   "source": [
    "df.drop(38352,axis=0)['EDAD'].hist()\n",
    "#drop es para eliminar la fila o columna (0= elimina fila, 1 =columna, axis)"
   ]
  },
  {
   "cell_type": "code",
   "execution_count": 7,
   "metadata": {},
   "outputs": [
    {
     "data": {
      "text/plain": [
       "<AxesSubplot:>"
      ]
     },
     "execution_count": 7,
     "metadata": {},
     "output_type": "execute_result"
    },
    {
     "data": {
      "image/png": "[encoded data removed]",
      "text/plain": [
       "<Figure size 432x288 with 1 Axes>"
      ]
     },
     "metadata": {
      "needs_background": "light"
     },
     "output_type": "display_data"
    }
   ],
   "source": [
    "df.boxplot('EDAD')\n",
    "#para identificar outlayers/ diagrama de cajas"
   ]
  },
  {
   "cell_type": "code",
   "execution_count": 8,
   "metadata": {},
   "outputs": [
    {
     "data": {
      "text/plain": [
       "<AxesSubplot:>"
      ]
     },
     "execution_count": 8,
     "metadata": {},
     "output_type": "execute_result"
    },
    {
     "data": {
      "image/png": "[encoded data removed]",
      "text/plain": [
       "<Figure size 432x288 with 1 Axes>"
      ]
     },
     "metadata": {
      "needs_background": "light"
     },
     "output_type": "display_data"
    }
   ],
   "source": [
    "df[['EDAD']].clip(upper=250).boxplot()\n",
    "#limita los valores a un limite superior e inferior upper/lower"
   ]
  },
  {
   "cell_type": "code",
   "execution_count": 9,
   "metadata": {},
   "outputs": [
    {
     "data": {
      "text/plain": [
       "<AxesSubplot:>"
      ]
     },
     "execution_count": 9,
     "metadata": {},
     "output_type": "execute_result"
    },
    {
     "data": {
      "image/png": "[encoded data removed]",
      "text/plain": [
       "<Figure size 432x288 with 1 Axes>"
      ]
     },
     "metadata": {
      "needs_background": "light"
     },
     "output_type": "display_data"
    }
   ],
   "source": [
    "df[['EDAD']].clip(upper=100).boxplot()"
   ]
  },
  {
   "cell_type": "code",
   "execution_count": 10,
   "metadata": {},
   "outputs": [
    {
     "name": "stdout",
     "output_type": "stream",
     "text": [
      "0          25.0\n",
      "1          37.0\n",
      "2          25.0\n",
      "3          27.0\n",
      "4          20.0\n",
      "           ... \n",
      "1048570    35.0\n",
      "1048571    36.0\n",
      "1048572    45.0\n",
      "1048573     6.0\n",
      "1048574     6.0\n",
      "Name: EDAD-clip, Length: 1048575, dtype: float64\n"
     ]
    }
   ],
   "source": [
    "df['EDAD-clip']= df['EDAD'].clip(upper=100)\n",
    "print(df['EDAD-clip'])\n",
    "#estoy reemplazando todos los valores mayores a 100 por 100"
   ]
  },
  {
   "cell_type": "code",
   "execution_count": 11,
   "metadata": {},
   "outputs": [
    {
     "data": {
      "text/plain": [
       "0.0"
      ]
     },
     "execution_count": 11,
     "metadata": {},
     "output_type": "execute_result"
    }
   ],
   "source": [
    "df['EDAD-clip'].min()"
   ]
  },
  {
   "cell_type": "code",
   "execution_count": 12,
   "metadata": {},
   "outputs": [
    {
     "data": {
      "text/plain": [
       "100.0"
      ]
     },
     "execution_count": 12,
     "metadata": {},
     "output_type": "execute_result"
    }
   ],
   "source": [
    "df['EDAD-clip'].max()"
   ]
  },
  {
   "cell_type": "code",
   "execution_count": 13,
   "metadata": {},
   "outputs": [
    {
     "data": {
      "text/plain": [
       "(983800, 1048575)"
      ]
     },
     "execution_count": 13,
     "metadata": {},
     "output_type": "execute_result"
    }
   ],
   "source": [
    "# Validar integridad del identificador \"único\"\n",
    "len(df['id_persona'].unique()), df.shape[0]"
   ]
  },
  {
   "cell_type": "code",
   "execution_count": 14,
   "metadata": {},
   "outputs": [
    {
     "data": {
      "text/plain": [
       "0          False\n",
       "1          False\n",
       "2          False\n",
       "3          False\n",
       "4          False\n",
       "           ...  \n",
       "1048570    False\n",
       "1048571    False\n",
       "1048572    False\n",
       "1048573    False\n",
       "1048574    False\n",
       "Name: id_persona, Length: 1048575, dtype: bool"
      ]
     },
     "execution_count": 14,
     "metadata": {},
     "output_type": "execute_result"
    }
   ],
   "source": [
    "# Nulos en id_persona\n",
    "df['id_persona'].isna() #no hay valor nulo, si fuera nulo aparecería true isna.sum() es la agrupación de valores"
   ]
  },
  {
   "cell_type": "code",
   "execution_count": 15,
   "metadata": {},
   "outputs": [
    {
     "data": {
      "text/plain": [
       "32314110    10\n",
       "21271473     6\n",
       "26130233     5\n",
       "22932885     5\n",
       "23942780     5\n",
       "Name: id_persona, dtype: int64"
      ]
     },
     "execution_count": 15,
     "metadata": {},
     "output_type": "execute_result"
    }
   ],
   "source": [
    "# Conteo de cuantas veces se duplican los id_persona\n",
    "filtro_duplicados = df['id_persona'].duplicated(keep=False)\n",
    "df[filtro_duplicados]['id_persona'].value_counts().head()"
   ]
  },
  {
   "cell_type": "code",
   "execution_count": 16,
   "metadata": {},
   "outputs": [
    {
     "data": {
      "image/png": "[encoded data removed]",
      "text/plain": [
       "<Figure size 432x288 with 1 Axes>"
      ]
     },
     "metadata": {
      "needs_background": "light"
     },
     "output_type": "display_data"
    }
   ],
   "source": [
    "df['EDAD-clip'].hist()\n",
    "plt.show()"
   ]
  },
  {
   "cell_type": "code",
   "execution_count": 17,
   "metadata": {},
   "outputs": [],
   "source": [
    "rangos_edad = [0, 5, 11, 18, 25, 35, 50, 65, 75, 90, 100]\n",
    "edad_bins = pd.cut(df['EDAD-clip'], bins=rangos_edad)\n",
    "\n",
    "edad_bins_count = edad_bins.value_counts()"
   ]
  },
  {
   "cell_type": "code",
   "execution_count": 18,
   "metadata": {},
   "outputs": [
    {
     "data": {
      "text/plain": [
       "(25, 35]     391932\n",
       "(18, 25]     223312\n",
       "(35, 50]     217668\n",
       "(11, 18]      80579\n",
       "(50, 65]      50562\n",
       "(5, 11]       37083\n",
       "(0, 5]        18970\n",
       "(65, 75]      15559\n",
       "(75, 90]       9352\n",
       "(90, 100]       871\n",
       "Name: EDAD-clip, dtype: int64"
      ]
     },
     "execution_count": 18,
     "metadata": {},
     "output_type": "execute_result"
    }
   ],
   "source": [
    "edad_bins_count"
   ]
  },
  {
   "cell_type": "code",
   "execution_count": 19,
   "metadata": {},
   "outputs": [
    {
     "data": {
      "text/plain": [
       "<AxesSubplot:>"
      ]
     },
     "execution_count": 19,
     "metadata": {},
     "output_type": "execute_result"
    },
    {
     "data": {
      "image/png": "[encoded data removed]",
      "text/plain": [
       "<Figure size 432x288 with 1 Axes>"
      ]
     },
     "metadata": {
      "needs_background": "light"
     },
     "output_type": "display_data"
    }
   ],
   "source": [
    "edad_bins_count.sort_index().plot(kind='bar')"
   ]
  },
  {
   "cell_type": "code",
   "execution_count": 20,
   "metadata": {},
   "outputs": [],
   "source": [
    "df['edad_bins'] = edad_bins"
   ]
  },
  {
   "cell_type": "code",
   "execution_count": 21,
   "metadata": {},
   "outputs": [
    {
     "data": {
      "text/plain": [
       "count      1048575\n",
       "unique           2\n",
       "top       FEMENINO\n",
       "freq        540140\n",
       "Name: SEXO, dtype: object"
      ]
     },
     "execution_count": 21,
     "metadata": {},
     "output_type": "execute_result"
    }
   ],
   "source": [
    "df['SEXO'].describe()"
   ]
  },
  {
   "cell_type": "code",
   "execution_count": 22,
   "metadata": {},
   "outputs": [
    {
     "data": {
      "text/plain": [
       "(FEMENINO     540140\n",
       " MASCULINO    508435\n",
       " Name: SEXO, dtype: int64,\n",
       " FEMENINO     0.515118\n",
       " MASCULINO    0.484882\n",
       " Name: SEXO, dtype: float64)"
      ]
     },
     "execution_count": 22,
     "metadata": {},
     "output_type": "execute_result"
    }
   ],
   "source": [
    "df['SEXO'].value_counts(), df['SEXO'].value_counts(normalize=True)\n",
    "#cuando quieres el f=, m="
   ]
  },
  {
   "cell_type": "code",
   "execution_count": 23,
   "metadata": {},
   "outputs": [
    {
     "data": {
      "text/plain": [
       "(0, 0.0)"
      ]
     },
     "execution_count": 23,
     "metadata": {},
     "output_type": "execute_result"
    }
   ],
   "source": [
    "# Valores perdidos / missings\n",
    "df['SEXO'].isna().sum(), df['SEXO'].isna().sum() / df.shape[0]"
   ]
  },
  {
   "cell_type": "code",
   "execution_count": 24,
   "metadata": {},
   "outputs": [
    {
     "data": {
      "text/html": [
       "<div>\n",
       "<style scoped>\n",
       "    .dataframe tbody tr th:only-of-type {\n",
       "        vertical-align: middle;\n",
       "    }\n",
       "\n",
       "    .dataframe tbody tr th {\n",
       "        vertical-align: top;\n",
       "    }\n",
       "\n",
       "    .dataframe thead th {\n",
       "        text-align: right;\n",
       "    }\n",
       "</style>\n",
       "<table border=\"1\" class=\"dataframe\">\n",
       "  <thead>\n",
       "    <tr style=\"text-align: right;\">\n",
       "      <th></th>\n",
       "      <th>edad_bins</th>\n",
       "      <th>SEXO</th>\n",
       "      <th>conteo</th>\n",
       "    </tr>\n",
       "  </thead>\n",
       "  <tbody>\n",
       "    <tr>\n",
       "      <th>0</th>\n",
       "      <td>(0, 5]</td>\n",
       "      <td>FEMENINO</td>\n",
       "      <td>9062</td>\n",
       "    </tr>\n",
       "    <tr>\n",
       "      <th>1</th>\n",
       "      <td>(0, 5]</td>\n",
       "      <td>MASCULINO</td>\n",
       "      <td>9908</td>\n",
       "    </tr>\n",
       "    <tr>\n",
       "      <th>2</th>\n",
       "      <td>(5, 11]</td>\n",
       "      <td>FEMENINO</td>\n",
       "      <td>18024</td>\n",
       "    </tr>\n",
       "    <tr>\n",
       "      <th>3</th>\n",
       "      <td>(5, 11]</td>\n",
       "      <td>MASCULINO</td>\n",
       "      <td>19059</td>\n",
       "    </tr>\n",
       "    <tr>\n",
       "      <th>4</th>\n",
       "      <td>(11, 18]</td>\n",
       "      <td>FEMENINO</td>\n",
       "      <td>43490</td>\n",
       "    </tr>\n",
       "  </tbody>\n",
       "</table>\n",
       "</div>"
      ],
      "text/plain": [
       "  edad_bins       SEXO  conteo\n",
       "0    (0, 5]   FEMENINO    9062\n",
       "1    (0, 5]  MASCULINO    9908\n",
       "2   (5, 11]   FEMENINO   18024\n",
       "3   (5, 11]  MASCULINO   19059\n",
       "4  (11, 18]   FEMENINO   43490"
      ]
     },
     "execution_count": 24,
     "metadata": {},
     "output_type": "execute_result"
    }
   ],
   "source": [
    "conteo_edad_x_sexo = (df[['edad_bins', 'SEXO']]\n",
    "                      .groupby(['edad_bins', 'SEXO']).size() # Agrupo y cuento las obs. por intervalo de edad y sexo \n",
    "                      .reset_index() # Convierte a df \n",
    "                      .rename({0: 'conteo'}, axis=1)) # Cambia el nombre de \"0\" a \"conteo\"\n",
    "conteo_edad_x_sexo.head()"
   ]
  },
  {
   "cell_type": "code",
   "execution_count": 25,
   "metadata": {},
   "outputs": [
    {
     "data": {
      "text/plain": [
       "<bound method NDFrame.head of     edad_bins       SEXO  conteo\n",
       "0      (0, 5]   FEMENINO    9062\n",
       "1      (0, 5]  MASCULINO    9908\n",
       "2     (5, 11]   FEMENINO   18024\n",
       "3     (5, 11]  MASCULINO   19059\n",
       "4    (11, 18]   FEMENINO   43490\n",
       "5    (11, 18]  MASCULINO   37089\n",
       "6    (18, 25]   FEMENINO  119605\n",
       "7    (18, 25]  MASCULINO  103707\n",
       "8    (25, 35]   FEMENINO  202957\n",
       "9    (25, 35]  MASCULINO  188975\n",
       "10   (35, 50]   FEMENINO  106269\n",
       "11   (35, 50]  MASCULINO  111399\n",
       "12   (50, 65]   FEMENINO   25749\n",
       "13   (50, 65]  MASCULINO   24813\n",
       "14   (65, 75]   FEMENINO    8015\n",
       "15   (65, 75]  MASCULINO    7544\n",
       "16   (75, 90]   FEMENINO    5230\n",
       "17   (75, 90]  MASCULINO    4122\n",
       "18  (90, 100]   FEMENINO     539\n",
       "19  (90, 100]  MASCULINO     332>"
      ]
     },
     "execution_count": 25,
     "metadata": {},
     "output_type": "execute_result"
    }
   ],
   "source": [
    "conteo_edad_x_sexo.head"
   ]
  },
  {
   "cell_type": "code",
   "execution_count": 26,
   "metadata": {},
   "outputs": [
    {
     "data": {
      "image/png": "[encoded data removed]",
      "text/plain": [
       "<Figure size 455.625x360 with 1 Axes>"
      ]
     },
     "metadata": {
      "needs_background": "light"
     },
     "output_type": "display_data"
    }
   ],
   "source": [
    "# Gráfica de barras de cantidad de personas por intervalo de edad en cada género\n",
    "g = sns.catplot(\n",
    "    data=conteo_edad_x_sexo, kind=\"bar\",\n",
    "    x=\"edad_bins\", y=\"conteo\", hue=\"SEXO\",\n",
    ")\n",
    "g.set_xticklabels(rotation=90)\n",
    "plt.show()"
   ]
  },
  {
   "cell_type": "code",
   "execution_count": 27,
   "metadata": {},
   "outputs": [
    {
     "data": {
      "text/plain": [
       "FECHA_CORTE  DEPARTAMENTO  PROVINCIA  DISTRITO                METODODX  EDAD  SEXO       FECHA_RESULTADO  UBIGEO    id_persona  EDAD-clip  edad_bins\n",
       "20220312     LIMA          LIMA       LIMA                    AG        26.0  MASCULINO  20210206.0       150101.0  24312110    26.0       (25, 35]     4\n",
       "                                      SAN MARTIN DE PORRES    AG        23.0  MASCULINO  20210522.0       150135.0  28385157    23.0       (18, 25]     4\n",
       "                                      LIMA                    AG        30.0  MASCULINO  20220105.0       150101.0  23436161    30.0       (25, 35]     4\n",
       "             JUNIN         HUANCAYO   HUANCAYO                AG        18.0  FEMENINO   20210515.0       120101.0  28312210    18.0       (11, 18]     4\n",
       "             LIMA          LIMA       SAN JUAN DE MIRAFLORES  AG        33.0  FEMENINO   20210212.0       150133.0  19631944    33.0       (25, 35]     4\n",
       "                                                                                                                                                       ..\n",
       "             JUNIN         HUANCAYO   EL TAMBO                PR        25.0  FEMENINO   20200515.0       120114.0  27277575    25.0       (18, 25]     1\n",
       "                                                                                         20200602.0       120114.0  28625538    25.0       (18, 25]     1\n",
       "                                                                                         20200625.0       120114.0  30666827    25.0       (18, 25]     1\n",
       "                                                                                         20200627.0       120114.0  31119223    25.0       (18, 25]     1\n",
       "             UCAYALI       PURUS      PURUS                   PR        73.0  FEMENINO   20200917.0       250401.0  20924391    73.0       (65, 75]     1\n",
       "Length: 987514, dtype: int64"
      ]
     },
     "execution_count": 27,
     "metadata": {},
     "output_type": "execute_result"
    }
   ],
   "source": [
    "df.value_counts()"
   ]
  },
  {
   "cell_type": "code",
   "execution_count": 28,
   "metadata": {},
   "outputs": [
    {
     "data": {
      "text/html": [
       "<div>\n",
       "<style scoped>\n",
       "    .dataframe tbody tr th:only-of-type {\n",
       "        vertical-align: middle;\n",
       "    }\n",
       "\n",
       "    .dataframe tbody tr th {\n",
       "        vertical-align: top;\n",
       "    }\n",
       "\n",
       "    .dataframe thead th {\n",
       "        text-align: right;\n",
       "    }\n",
       "</style>\n",
       "<table border=\"1\" class=\"dataframe\">\n",
       "  <thead>\n",
       "    <tr style=\"text-align: right;\">\n",
       "      <th></th>\n",
       "      <th>UBIGEO</th>\n",
       "      <th>DEPARTAMENTO</th>\n",
       "      <th>PROVINCIA</th>\n",
       "      <th>DISTRITO</th>\n",
       "    </tr>\n",
       "  </thead>\n",
       "  <tbody>\n",
       "    <tr>\n",
       "      <th>0</th>\n",
       "      <td>70101.0</td>\n",
       "      <td>CALLAO</td>\n",
       "      <td>CALLAO</td>\n",
       "      <td>CALLAO</td>\n",
       "    </tr>\n",
       "    <tr>\n",
       "      <th>1</th>\n",
       "      <td>150108.0</td>\n",
       "      <td>LIMA</td>\n",
       "      <td>LIMA</td>\n",
       "      <td>CHORRILLOS</td>\n",
       "    </tr>\n",
       "    <tr>\n",
       "      <th>2</th>\n",
       "      <td>150135.0</td>\n",
       "      <td>LIMA</td>\n",
       "      <td>LIMA</td>\n",
       "      <td>SAN MARTIN DE PORRES</td>\n",
       "    </tr>\n",
       "    <tr>\n",
       "      <th>3</th>\n",
       "      <td>40101.0</td>\n",
       "      <td>AREQUIPA</td>\n",
       "      <td>AREQUIPA</td>\n",
       "      <td>AREQUIPA</td>\n",
       "    </tr>\n",
       "    <tr>\n",
       "      <th>4</th>\n",
       "      <td>110501.0</td>\n",
       "      <td>ICA</td>\n",
       "      <td>PISCO</td>\n",
       "      <td>PISCO</td>\n",
       "    </tr>\n",
       "  </tbody>\n",
       "</table>\n",
       "</div>"
      ],
      "text/plain": [
       "     UBIGEO DEPARTAMENTO PROVINCIA              DISTRITO\n",
       "0   70101.0       CALLAO    CALLAO                CALLAO\n",
       "1  150108.0         LIMA      LIMA            CHORRILLOS\n",
       "2  150135.0         LIMA      LIMA  SAN MARTIN DE PORRES\n",
       "3   40101.0     AREQUIPA  AREQUIPA              AREQUIPA\n",
       "4  110501.0          ICA     PISCO                 PISCO"
      ]
     },
     "execution_count": 28,
     "metadata": {},
     "output_type": "execute_result"
    }
   ],
   "source": [
    "local_vars = ['UBIGEO', 'DEPARTAMENTO', 'PROVINCIA', 'DISTRITO']\n",
    "df[local_vars].head()"
   ]
  },
  {
   "cell_type": "code",
   "execution_count": 29,
   "metadata": {},
   "outputs": [],
   "source": [
    "df['UBIGEO'] = df['UBIGEO'].astype(str)"
   ]
  },
  {
   "cell_type": "code",
   "execution_count": 30,
   "metadata": {},
   "outputs": [
    {
     "data": {
      "text/plain": [
       "UBIGEO           0\n",
       "DEPARTAMENTO    83\n",
       "PROVINCIA        0\n",
       "DISTRITO         0\n",
       "dtype: int64"
      ]
     },
     "execution_count": 30,
     "metadata": {},
     "output_type": "execute_result"
    }
   ],
   "source": [
    "# Conteo de valores nulos para mi dataframe creado local_vars\n",
    "df[local_vars].isna().sum()"
   ]
  },
  {
   "cell_type": "code",
   "execution_count": 90,
   "metadata": {},
   "outputs": [],
   "source": [
    "#dropna para eliminar valores nulos\n",
    "df= df.dropna()"
   ]
  },
  {
   "cell_type": "code",
   "execution_count": 40,
   "metadata": {},
   "outputs": [
    {
     "data": {
      "text/plain": [
       "array(['CALLAO', 'CHORRILLOS', 'SAN MARTIN DE PORRES', ..., 'MAMARA',\n",
       "       'MANGAS', 'SANTIAGO DE ANCHUCAYA'], dtype=object)"
      ]
     },
     "execution_count": 40,
     "metadata": {},
     "output_type": "execute_result"
    }
   ],
   "source": [
    "df.DISTRITO.unique()"
   ]
  },
  {
   "cell_type": "code",
   "execution_count": 41,
   "metadata": {},
   "outputs": [
    {
     "data": {
      "text/html": [
       "<div>\n",
       "<style scoped>\n",
       "    .dataframe tbody tr th:only-of-type {\n",
       "        vertical-align: middle;\n",
       "    }\n",
       "\n",
       "    .dataframe tbody tr th {\n",
       "        vertical-align: top;\n",
       "    }\n",
       "\n",
       "    .dataframe thead th {\n",
       "        text-align: right;\n",
       "    }\n",
       "</style>\n",
       "<table border=\"1\" class=\"dataframe\">\n",
       "  <thead>\n",
       "    <tr style=\"text-align: right;\">\n",
       "      <th></th>\n",
       "    </tr>\n",
       "    <tr>\n",
       "      <th>0</th>\n",
       "    </tr>\n",
       "  </thead>\n",
       "  <tbody>\n",
       "    <tr>\n",
       "      <th>CALLAO</th>\n",
       "    </tr>\n",
       "    <tr>\n",
       "      <th>CHORRILLOS</th>\n",
       "    </tr>\n",
       "    <tr>\n",
       "      <th>SAN MARTIN DE PORRES</th>\n",
       "    </tr>\n",
       "    <tr>\n",
       "      <th>AREQUIPA</th>\n",
       "    </tr>\n",
       "    <tr>\n",
       "      <th>PISCO</th>\n",
       "    </tr>\n",
       "    <tr>\n",
       "      <th>...</th>\n",
       "    </tr>\n",
       "    <tr>\n",
       "      <th>AMASHCA</th>\n",
       "    </tr>\n",
       "    <tr>\n",
       "      <th>RAPAYAN</th>\n",
       "    </tr>\n",
       "    <tr>\n",
       "      <th>MAMARA</th>\n",
       "    </tr>\n",
       "    <tr>\n",
       "      <th>MANGAS</th>\n",
       "    </tr>\n",
       "    <tr>\n",
       "      <th>SANTIAGO DE ANCHUCAYA</th>\n",
       "    </tr>\n",
       "  </tbody>\n",
       "</table>\n",
       "<p>1677 rows × 0 columns</p>\n",
       "</div>"
      ],
      "text/plain": [
       "Empty DataFrame\n",
       "Columns: []\n",
       "Index: [CALLAO, CHORRILLOS, SAN MARTIN DE PORRES, AREQUIPA, PISCO, EN INVESTIGACIÃ“N, HUANUCO, SANTA, NUEVO CHIMBOTE, SANTIAGO DE SURCO, LIMA, PACHACAMAC, PAMPAS DE HOSPITAL, LA MOLINA, ATE, PUNO, ANDAHUAYLAS, CHANCHAMAYO, CASTILLA, LA VICTORIA, PUENTE PIEDRA, TAMBOPATA, SANTA ANITA, ROSARIO, MI PERU, SAN JUAN DE LURIGANCHO, YANAHUARA, CUSCO, PANGOA, CHICLAYO, LAS PIEDRAS, TRUJILLO, MIRAFLORES, LAREDO, VENTANILLA, JESUS MARIA, CHILCA, MAGDALENA DEL MAR, HUALMAY, NIEVA, HUANCARANI, SORITOR, VILLA MARIA DEL TRIUNFO, ILO, JULIACA, LA JOYA, EL TAMBO, SAN JUAN DE MIRAFLORES, PAUCARPATA, CHIMBOTE, PUCUSANA, RIMAC, PAITA, SULLANA, PUTUMAYO, BARRANCO, BARRANCA, HUARMACA, JUNIN, CARHUAMAYO, MOQUEGUA, HUARAL, ARAMANGO, MORALES, TARAPOTO, HUANCAYO, UCHUMAYO, ANCON, QUELLOUNO, HUAROCONDO, MORROPON, PIURA, CHACHAPOYAS, CORONEL GREGORIO ALBARRACIN L., CERRO COLORADO, CHACLACAYO, LA PERLA, BELLAVISTA, CHALLHUAHUACHO, LOS OLIVOS, ABANCAY, SAÃ‘A, TUMBES, ANTA, LA ESPERANZA, CAYMA, SACHACA, IQUITOS, VILLA EL SALVADOR, SAN BORJA, CAJARURO, JOSE LEONARDO ORTIZ, SAN ISIDRO, YURIMAGUAS, SAMEGUA, EL AGUSTINO, SAMUEL PASTOR, SAN JUAN BAUTISTA, AYACUCHO, BOLIVAR, ...]\n",
       "\n",
       "[1677 rows x 0 columns]"
      ]
     },
     "execution_count": 41,
     "metadata": {},
     "output_type": "execute_result"
    }
   ],
   "source": [
    "n_dis = pd.DataFrame(df.DISTRITO.unique()).set_index(0)\n",
    "n_dis\n"
   ]
  },
  {
   "cell_type": "code",
   "execution_count": 43,
   "metadata": {},
   "outputs": [
    {
     "data": {
      "text/plain": [
       "(1677, 0)"
      ]
     },
     "execution_count": 43,
     "metadata": {},
     "output_type": "execute_result"
    }
   ],
   "source": [
    "n_dis.shape"
   ]
  },
  {
   "cell_type": "code",
   "execution_count": 45,
   "metadata": {},
   "outputs": [
    {
     "data": {
      "text/plain": [
       "Series([], Name: EN INVESTIGACIÃ“N, dtype: float64)"
      ]
     },
     "execution_count": 45,
     "metadata": {},
     "output_type": "execute_result"
    }
   ],
   "source": [
    "n_dis.loc[\"EN INVESTIGACIÃ“N\"].T"
   ]
  },
  {
   "cell_type": "code",
   "execution_count": 50,
   "metadata": {},
   "outputs": [
    {
     "data": {
      "text/plain": [
       "607500"
      ]
     },
     "execution_count": 50,
     "metadata": {},
     "output_type": "execute_result"
    }
   ],
   "source": [
    "df[df['DISTRITO']=='EN INVESTIGACIÃ“N'].size"
   ]
  },
  {
   "cell_type": "code",
   "execution_count": 83,
   "metadata": {},
   "outputs": [
    {
     "data": {
      "text/plain": [
       "(1048575, 12)"
      ]
     },
     "execution_count": 83,
     "metadata": {},
     "output_type": "execute_result"
    }
   ],
   "source": [
    "df.shape"
   ]
  },
  {
   "cell_type": "code",
   "execution_count": 85,
   "metadata": {},
   "outputs": [],
   "source": [
    "# df.loc es para encontrar la ubicacion de la fila, dentro del corchete le damos el valor \n",
    "# != no queremos que contenga \" EN INVESTIGACIÃ“N\"\n",
    "# le estamos diciendo a mi tabla que no contenga estos valores\n",
    "df = df.loc[(df[\"DISTRITO\"] != 'EN INVESTIGACIÃ“N')]"
   ]
  },
  {
   "cell_type": "code",
   "execution_count": 86,
   "metadata": {},
   "outputs": [
    {
     "data": {
      "text/plain": [
       "(997950, 12)"
      ]
     },
     "execution_count": 86,
     "metadata": {},
     "output_type": "execute_result"
    }
   ],
   "source": [
    "df.shape"
   ]
  },
  {
   "cell_type": "code",
   "execution_count": 94,
   "metadata": {},
   "outputs": [
    {
     "data": {
      "text/plain": [
       "0"
      ]
     },
     "execution_count": 94,
     "metadata": {},
     "output_type": "execute_result"
    }
   ],
   "source": [
    "df[df['UBIGEO']=='nan'].size"
   ]
  },
  {
   "cell_type": "code",
   "execution_count": 96,
   "metadata": {},
   "outputs": [
    {
     "data": {
      "text/plain": [
       "UBIGEO          0\n",
       "DEPARTAMENTO    0\n",
       "PROVINCIA       0\n",
       "DISTRITO        0\n",
       "dtype: int64"
      ]
     },
     "execution_count": 96,
     "metadata": {},
     "output_type": "execute_result"
    }
   ],
   "source": [
    "df[local_vars].isnull().sum()"
   ]
  },
  {
   "cell_type": "code",
   "execution_count": 33,
   "metadata": {},
   "outputs": [],
   "source": [
    "import geopandas as gpd "
   ]
  },
  {
   "cell_type": "code",
   "execution_count": 34,
   "metadata": {},
   "outputs": [],
   "source": [
    "geo_deps = gpd.read_file('LIMITE_DEPARTAMENTAL (1).zip')\n",
    "geo_provs = gpd.read_file('LIMITE_PROVINCIAL.zip')\n",
    "geo_dists = gpd.read_file('LIMITE_DISTRITAL.zip')"
   ]
  },
  {
   "cell_type": "code",
   "execution_count": 35,
   "metadata": {},
   "outputs": [
    {
     "data": {
      "text/plain": [
       "<AxesSubplot:>"
      ]
     },
     "execution_count": 35,
     "metadata": {},
     "output_type": "execute_result"
    },
    {
     "data": {
      "image/png": "[encoded data removed]",
      "text/plain": [
       "<Figure size 1080x360 with 3 Axes>"
      ]
     },
     "metadata": {
      "needs_background": "light"
     },
     "output_type": "display_data"
    }
   ],
   "source": [
    "fig, (ax1, ax2, ax3) = plt.subplots(nrows=1, ncols=3,\n",
    "                                    figsize=(15, 5))\n",
    "\n",
    "geo_deps.plot(ax=ax1)\n",
    "geo_provs.plot(linewidth=0.5, ax=ax2)\n",
    "geo_dists.plot(linewidth=0.1, ax=ax3)"
   ]
  },
  {
   "cell_type": "code",
   "execution_count": 45,
   "metadata": {},
   "outputs": [],
   "source": [
    "df['UBIGEO'] = df['UBIGEO'].astype(str)"
   ]
  },
  {
   "cell_type": "code",
   "execution_count": 51,
   "metadata": {},
   "outputs": [],
   "source": [
    "df['DEPARTAMENTO'] = df['DEPARTAMENTO'].astype(str)"
   ]
  },
  {
   "cell_type": "code",
   "execution_count": 97,
   "metadata": {},
   "outputs": [],
   "source": [
    "# VALIDAMOS QUE LOS NOMBRES DE DEPARTAMENTOS\n",
    "# EN LOS DOS DATASETS SEAN IGUALES\n",
    "df_unique_dep = df['DEPARTAMENTO'].unique()\n",
    "df_unique_dep.sort()\n",
    "\n",
    "gdf_unique_dep = geo_deps['NOMBDEP'].unique()\n",
    "gdf_unique_dep.sort()\n",
    "\n",
    "#(df_unique_dep == gdf_unique_dep).all() # True"
   ]
  },
  {
   "cell_type": "code",
   "execution_count": 98,
   "metadata": {},
   "outputs": [
    {
     "data": {
      "text/plain": [
       "True"
      ]
     },
     "execution_count": 98,
     "metadata": {},
     "output_type": "execute_result"
    }
   ],
   "source": [
    "(df_unique_dep == gdf_unique_dep).all() # True"
   ]
  },
  {
   "cell_type": "code",
   "execution_count": 99,
   "metadata": {},
   "outputs": [
    {
     "data": {
      "text/html": [
       "<div>\n",
       "<style scoped>\n",
       "    .dataframe tbody tr th:only-of-type {\n",
       "        vertical-align: middle;\n",
       "    }\n",
       "\n",
       "    .dataframe tbody tr th {\n",
       "        vertical-align: top;\n",
       "    }\n",
       "\n",
       "    .dataframe thead th {\n",
       "        text-align: right;\n",
       "    }\n",
       "</style>\n",
       "<table border=\"1\" class=\"dataframe\">\n",
       "  <thead>\n",
       "    <tr style=\"text-align: right;\">\n",
       "      <th></th>\n",
       "      <th>index</th>\n",
       "      <th>DEPARTAMENTO</th>\n",
       "    </tr>\n",
       "  </thead>\n",
       "  <tbody>\n",
       "    <tr>\n",
       "      <th>0</th>\n",
       "      <td>LIMA</td>\n",
       "      <td>409982</td>\n",
       "    </tr>\n",
       "    <tr>\n",
       "      <th>1</th>\n",
       "      <td>AREQUIPA</td>\n",
       "      <td>70814</td>\n",
       "    </tr>\n",
       "    <tr>\n",
       "      <th>2</th>\n",
       "      <td>PIURA</td>\n",
       "      <td>45265</td>\n",
       "    </tr>\n",
       "    <tr>\n",
       "      <th>3</th>\n",
       "      <td>LA LIBERTAD</td>\n",
       "      <td>42611</td>\n",
       "    </tr>\n",
       "    <tr>\n",
       "      <th>4</th>\n",
       "      <td>ANCASH</td>\n",
       "      <td>42117</td>\n",
       "    </tr>\n",
       "  </tbody>\n",
       "</table>\n",
       "</div>"
      ],
      "text/plain": [
       "         index  DEPARTAMENTO\n",
       "0         LIMA        409982\n",
       "1     AREQUIPA         70814\n",
       "2        PIURA         45265\n",
       "3  LA LIBERTAD         42611\n",
       "4       ANCASH         42117"
      ]
     },
     "execution_count": 99,
     "metadata": {},
     "output_type": "execute_result"
    }
   ],
   "source": [
    "# Contamos la cantidad de casos positivos por departamento\n",
    "conteo_dept = df['DEPARTAMENTO'].value_counts()\n",
    "conteo_dept = conteo_dept.reset_index()\n",
    "conteo_dept.head()"
   ]
  },
  {
   "cell_type": "code",
   "execution_count": 100,
   "metadata": {},
   "outputs": [],
   "source": [
    "# Unimos los conteos utilizando los nombres de departamentos\n",
    "geo_conteo_dept = pd.merge(left=geo_deps, right=conteo_dept, \n",
    "                             left_on=\"NOMBDEP\", right_on='index')"
   ]
  },
  {
   "cell_type": "code",
   "execution_count": 101,
   "metadata": {},
   "outputs": [
    {
     "data": {
      "text/plain": [
       "<AxesSubplot:>"
      ]
     },
     "execution_count": 101,
     "metadata": {},
     "output_type": "execute_result"
    },
    {
     "data": {
      "image/png": "[encoded data removed]",
      "text/plain": [
       "<Figure size 432x288 with 2 Axes>"
      ]
     },
     "metadata": {
      "needs_background": "light"
     },
     "output_type": "display_data"
    }
   ],
   "source": [
    "# Mapa de calor de # de casos positivos por departamento\n",
    "geo_conteo_dept.plot(\"DEPARTAMENTO\", cmap='viridis',\n",
    "                       legend=True)"
   ]
  },
  {
   "cell_type": "code",
   "execution_count": null,
   "metadata": {},
   "outputs": [],
   "source": []
  }
 ],
 "metadata": {
  "interpreter": {
   "hash": "655b2e2a60020c99c51ab13e55cbf9e51c4b2ffeb59b38b2e70e7a54f25921f7"
  },
  "kernelspec": {
   "display_name": "Python 3.10.2 64-bit (windows store)",
   "language": "python",
   "name": "python3"
  },
  "language_info": {
   "codemirror_mode": {
    "name": "ipython",
    "version": 3
   },
   "file_extension": ".py",
   "mimetype": "text/x-python",
   "name": "python",
   "nbconvert_exporter": "python",
   "pygments_lexer": "ipython3",
   "version": "3.10.4"
  },
  "orig_nbformat": 4
 },
 "nbformat": 4,
 "nbformat_minor": 2
}
